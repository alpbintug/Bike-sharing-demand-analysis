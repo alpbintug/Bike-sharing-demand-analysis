{
 "cells": [
  {
   "cell_type": "markdown",
   "source": [
    "# Bike Sharing Data Analysis"
   ],
   "metadata": {
    "colab_type": "text",
    "id": "x_BkOtqBIKQz"
   }
  },
  {
   "cell_type": "code",
   "execution_count": 2,
   "source": [
    "#Libraries\r\n",
    "import pandas as pd\r\n",
    "pd.set_option(\"display.max_columns\", 101)"
   ],
   "outputs": [],
   "metadata": {
    "colab": {},
    "colab_type": "code",
    "id": "VzGFUCCVIKRL"
   }
  },
  {
   "cell_type": "markdown",
   "source": [
    "## Data Description"
   ],
   "metadata": {
    "colab_type": "text",
    "id": "TZ23KNY8IKRT"
   }
  },
  {
   "cell_type": "markdown",
   "source": [
    "Column | Description\r\n",
    ":---|:---\r\n",
    "`id` | Record index\r\n",
    "`timestamp` | Datetime (YYYY:MM:DD HH AM/PM)\r\n",
    "`season` | Season (spring, summer, fall, winter)\r\n",
    "`holiday` | Whether day is a holiday or not (Yes or No)\r\n",
    "`workingday` | Whether day is a working day or not (Yes or No)\r\n",
    "`weather`| Weather condition (Clear or partly cloudy, Mist, Light snow or rain, heavy rain/ice pellets/ snow + fog \r\n",
    "`temp`| Average temperature recorded for the hour ( in degree Celsius)\r\n",
    "`temp_feel`| Average feeling temperature recorded for the hour ( in degree Celsius)\r\n",
    "`hum`| Average humidity recorded for the hour (in %)\r\n",
    "`windspeed`| Average wind speed recorded for the hour (in miles/hour)\r\n",
    "`demand`| Hourly count of bikes rented"
   ],
   "metadata": {
    "colab_type": "text",
    "id": "jWSkqquEIKRW"
   }
  },
  {
   "cell_type": "markdown",
   "source": [
    "## Data Wrangling & Visualization"
   ],
   "metadata": {
    "colab_type": "text",
    "id": "BWQqx7cSIKRX"
   }
  },
  {
   "cell_type": "code",
   "execution_count": 3,
   "source": [
    "# The dataset is already loaded below\r\n",
    "data = pd.read_csv(\"train.csv\")\r\n",
    "test = pd.read_csv(\"test.csv\")\r\n",
    "test"
   ],
   "outputs": [
    {
     "output_type": "execute_result",
     "data": {
      "text/plain": [
       "         id            timestamp  season holiday workingday  \\\n",
       "0      8709  2018-08-05 05:00:00    fall      No         No   \n",
       "1      8710  2018-08-05 06:00:00    fall      No         No   \n",
       "2      8712  2018-08-05 08:00:00    fall      No         No   \n",
       "3      8713  2018-08-05 09:00:00    fall      No         No   \n",
       "4      8714  2018-08-05 10:00:00    fall      No         No   \n",
       "...     ...                  ...     ...     ...        ...   \n",
       "1787  10882  2018-12-19 19:00:00  winter      No        Yes   \n",
       "1788  10883  2018-12-19 20:00:00  winter      No        Yes   \n",
       "1789  10884  2018-12-19 21:00:00  winter      No        Yes   \n",
       "1790  10885  2018-12-19 22:00:00  winter      No        Yes   \n",
       "1791  10886  2018-12-19 23:00:00  winter      No        Yes   \n",
       "\n",
       "                     weather   temp  temp_feel  humidity  windspeed  \n",
       "0     Clear or partly cloudy  29.52     34.850      74.0    16.9979  \n",
       "1     Clear or partly cloudy  29.52     34.850      79.0    16.9979  \n",
       "2     Clear or partly cloudy  31.16     36.365      66.0    22.0028  \n",
       "3     Clear or partly cloudy  32.80     38.635      59.0    23.9994  \n",
       "4     Clear or partly cloudy  32.80     38.635      59.0    27.9993  \n",
       "...                      ...    ...        ...       ...        ...  \n",
       "1787  Clear or partly cloudy  15.58     19.695      50.0    26.0027  \n",
       "1788  Clear or partly cloudy  14.76     17.425      57.0    15.0013  \n",
       "1789  Clear or partly cloudy  13.94     15.910      61.0    15.0013  \n",
       "1790  Clear or partly cloudy  13.94     17.425      61.0     6.0032  \n",
       "1791  Clear or partly cloudy  13.12     16.665      66.0     8.9981  \n",
       "\n",
       "[1792 rows x 10 columns]"
      ],
      "text/html": [
       "<div>\n",
       "<style scoped>\n",
       "    .dataframe tbody tr th:only-of-type {\n",
       "        vertical-align: middle;\n",
       "    }\n",
       "\n",
       "    .dataframe tbody tr th {\n",
       "        vertical-align: top;\n",
       "    }\n",
       "\n",
       "    .dataframe thead th {\n",
       "        text-align: right;\n",
       "    }\n",
       "</style>\n",
       "<table border=\"1\" class=\"dataframe\">\n",
       "  <thead>\n",
       "    <tr style=\"text-align: right;\">\n",
       "      <th></th>\n",
       "      <th>id</th>\n",
       "      <th>timestamp</th>\n",
       "      <th>season</th>\n",
       "      <th>holiday</th>\n",
       "      <th>workingday</th>\n",
       "      <th>weather</th>\n",
       "      <th>temp</th>\n",
       "      <th>temp_feel</th>\n",
       "      <th>humidity</th>\n",
       "      <th>windspeed</th>\n",
       "    </tr>\n",
       "  </thead>\n",
       "  <tbody>\n",
       "    <tr>\n",
       "      <th>0</th>\n",
       "      <td>8709</td>\n",
       "      <td>2018-08-05 05:00:00</td>\n",
       "      <td>fall</td>\n",
       "      <td>No</td>\n",
       "      <td>No</td>\n",
       "      <td>Clear or partly cloudy</td>\n",
       "      <td>29.52</td>\n",
       "      <td>34.850</td>\n",
       "      <td>74.0</td>\n",
       "      <td>16.9979</td>\n",
       "    </tr>\n",
       "    <tr>\n",
       "      <th>1</th>\n",
       "      <td>8710</td>\n",
       "      <td>2018-08-05 06:00:00</td>\n",
       "      <td>fall</td>\n",
       "      <td>No</td>\n",
       "      <td>No</td>\n",
       "      <td>Clear or partly cloudy</td>\n",
       "      <td>29.52</td>\n",
       "      <td>34.850</td>\n",
       "      <td>79.0</td>\n",
       "      <td>16.9979</td>\n",
       "    </tr>\n",
       "    <tr>\n",
       "      <th>2</th>\n",
       "      <td>8712</td>\n",
       "      <td>2018-08-05 08:00:00</td>\n",
       "      <td>fall</td>\n",
       "      <td>No</td>\n",
       "      <td>No</td>\n",
       "      <td>Clear or partly cloudy</td>\n",
       "      <td>31.16</td>\n",
       "      <td>36.365</td>\n",
       "      <td>66.0</td>\n",
       "      <td>22.0028</td>\n",
       "    </tr>\n",
       "    <tr>\n",
       "      <th>3</th>\n",
       "      <td>8713</td>\n",
       "      <td>2018-08-05 09:00:00</td>\n",
       "      <td>fall</td>\n",
       "      <td>No</td>\n",
       "      <td>No</td>\n",
       "      <td>Clear or partly cloudy</td>\n",
       "      <td>32.80</td>\n",
       "      <td>38.635</td>\n",
       "      <td>59.0</td>\n",
       "      <td>23.9994</td>\n",
       "    </tr>\n",
       "    <tr>\n",
       "      <th>4</th>\n",
       "      <td>8714</td>\n",
       "      <td>2018-08-05 10:00:00</td>\n",
       "      <td>fall</td>\n",
       "      <td>No</td>\n",
       "      <td>No</td>\n",
       "      <td>Clear or partly cloudy</td>\n",
       "      <td>32.80</td>\n",
       "      <td>38.635</td>\n",
       "      <td>59.0</td>\n",
       "      <td>27.9993</td>\n",
       "    </tr>\n",
       "    <tr>\n",
       "      <th>...</th>\n",
       "      <td>...</td>\n",
       "      <td>...</td>\n",
       "      <td>...</td>\n",
       "      <td>...</td>\n",
       "      <td>...</td>\n",
       "      <td>...</td>\n",
       "      <td>...</td>\n",
       "      <td>...</td>\n",
       "      <td>...</td>\n",
       "      <td>...</td>\n",
       "    </tr>\n",
       "    <tr>\n",
       "      <th>1787</th>\n",
       "      <td>10882</td>\n",
       "      <td>2018-12-19 19:00:00</td>\n",
       "      <td>winter</td>\n",
       "      <td>No</td>\n",
       "      <td>Yes</td>\n",
       "      <td>Clear or partly cloudy</td>\n",
       "      <td>15.58</td>\n",
       "      <td>19.695</td>\n",
       "      <td>50.0</td>\n",
       "      <td>26.0027</td>\n",
       "    </tr>\n",
       "    <tr>\n",
       "      <th>1788</th>\n",
       "      <td>10883</td>\n",
       "      <td>2018-12-19 20:00:00</td>\n",
       "      <td>winter</td>\n",
       "      <td>No</td>\n",
       "      <td>Yes</td>\n",
       "      <td>Clear or partly cloudy</td>\n",
       "      <td>14.76</td>\n",
       "      <td>17.425</td>\n",
       "      <td>57.0</td>\n",
       "      <td>15.0013</td>\n",
       "    </tr>\n",
       "    <tr>\n",
       "      <th>1789</th>\n",
       "      <td>10884</td>\n",
       "      <td>2018-12-19 21:00:00</td>\n",
       "      <td>winter</td>\n",
       "      <td>No</td>\n",
       "      <td>Yes</td>\n",
       "      <td>Clear or partly cloudy</td>\n",
       "      <td>13.94</td>\n",
       "      <td>15.910</td>\n",
       "      <td>61.0</td>\n",
       "      <td>15.0013</td>\n",
       "    </tr>\n",
       "    <tr>\n",
       "      <th>1790</th>\n",
       "      <td>10885</td>\n",
       "      <td>2018-12-19 22:00:00</td>\n",
       "      <td>winter</td>\n",
       "      <td>No</td>\n",
       "      <td>Yes</td>\n",
       "      <td>Clear or partly cloudy</td>\n",
       "      <td>13.94</td>\n",
       "      <td>17.425</td>\n",
       "      <td>61.0</td>\n",
       "      <td>6.0032</td>\n",
       "    </tr>\n",
       "    <tr>\n",
       "      <th>1791</th>\n",
       "      <td>10886</td>\n",
       "      <td>2018-12-19 23:00:00</td>\n",
       "      <td>winter</td>\n",
       "      <td>No</td>\n",
       "      <td>Yes</td>\n",
       "      <td>Clear or partly cloudy</td>\n",
       "      <td>13.12</td>\n",
       "      <td>16.665</td>\n",
       "      <td>66.0</td>\n",
       "      <td>8.9981</td>\n",
       "    </tr>\n",
       "  </tbody>\n",
       "</table>\n",
       "<p>1792 rows × 10 columns</p>\n",
       "</div>"
      ]
     },
     "metadata": {},
     "execution_count": 3
    }
   ],
   "metadata": {
    "colab": {},
    "colab_type": "code",
    "id": "SsjL7tf7IKRc"
   }
  },
  {
   "cell_type": "code",
   "execution_count": 4,
   "source": [
    "data.head()"
   ],
   "outputs": [
    {
     "output_type": "execute_result",
     "data": {
      "text/plain": [
       "   id            timestamp  season holiday workingday                 weather  \\\n",
       "0   1  2017-01-01 00:00:00  spring      No         No  Clear or partly cloudy   \n",
       "1   2  2017-01-01 01:00:00  spring      No         No  Clear or partly cloudy   \n",
       "2   3  2017-01-01 02:00:00  spring      No         No  Clear or partly cloudy   \n",
       "3   4  2017-01-01 03:00:00  spring      No         No  Clear or partly cloudy   \n",
       "4   5  2017-01-01 04:00:00  spring      No         No  Clear or partly cloudy   \n",
       "\n",
       "   temp  temp_feel  humidity  windspeed    demand  \n",
       "0  9.84     14.395      81.0        0.0  2.772589  \n",
       "1  9.02     13.635      80.0        0.0  3.688879  \n",
       "2  9.02     13.635      80.0        0.0  3.465736  \n",
       "3  9.84     14.395      75.0        0.0  2.564949  \n",
       "4  9.84     14.395      75.0        0.0  0.000000  "
      ],
      "text/html": [
       "<div>\n",
       "<style scoped>\n",
       "    .dataframe tbody tr th:only-of-type {\n",
       "        vertical-align: middle;\n",
       "    }\n",
       "\n",
       "    .dataframe tbody tr th {\n",
       "        vertical-align: top;\n",
       "    }\n",
       "\n",
       "    .dataframe thead th {\n",
       "        text-align: right;\n",
       "    }\n",
       "</style>\n",
       "<table border=\"1\" class=\"dataframe\">\n",
       "  <thead>\n",
       "    <tr style=\"text-align: right;\">\n",
       "      <th></th>\n",
       "      <th>id</th>\n",
       "      <th>timestamp</th>\n",
       "      <th>season</th>\n",
       "      <th>holiday</th>\n",
       "      <th>workingday</th>\n",
       "      <th>weather</th>\n",
       "      <th>temp</th>\n",
       "      <th>temp_feel</th>\n",
       "      <th>humidity</th>\n",
       "      <th>windspeed</th>\n",
       "      <th>demand</th>\n",
       "    </tr>\n",
       "  </thead>\n",
       "  <tbody>\n",
       "    <tr>\n",
       "      <th>0</th>\n",
       "      <td>1</td>\n",
       "      <td>2017-01-01 00:00:00</td>\n",
       "      <td>spring</td>\n",
       "      <td>No</td>\n",
       "      <td>No</td>\n",
       "      <td>Clear or partly cloudy</td>\n",
       "      <td>9.84</td>\n",
       "      <td>14.395</td>\n",
       "      <td>81.0</td>\n",
       "      <td>0.0</td>\n",
       "      <td>2.772589</td>\n",
       "    </tr>\n",
       "    <tr>\n",
       "      <th>1</th>\n",
       "      <td>2</td>\n",
       "      <td>2017-01-01 01:00:00</td>\n",
       "      <td>spring</td>\n",
       "      <td>No</td>\n",
       "      <td>No</td>\n",
       "      <td>Clear or partly cloudy</td>\n",
       "      <td>9.02</td>\n",
       "      <td>13.635</td>\n",
       "      <td>80.0</td>\n",
       "      <td>0.0</td>\n",
       "      <td>3.688879</td>\n",
       "    </tr>\n",
       "    <tr>\n",
       "      <th>2</th>\n",
       "      <td>3</td>\n",
       "      <td>2017-01-01 02:00:00</td>\n",
       "      <td>spring</td>\n",
       "      <td>No</td>\n",
       "      <td>No</td>\n",
       "      <td>Clear or partly cloudy</td>\n",
       "      <td>9.02</td>\n",
       "      <td>13.635</td>\n",
       "      <td>80.0</td>\n",
       "      <td>0.0</td>\n",
       "      <td>3.465736</td>\n",
       "    </tr>\n",
       "    <tr>\n",
       "      <th>3</th>\n",
       "      <td>4</td>\n",
       "      <td>2017-01-01 03:00:00</td>\n",
       "      <td>spring</td>\n",
       "      <td>No</td>\n",
       "      <td>No</td>\n",
       "      <td>Clear or partly cloudy</td>\n",
       "      <td>9.84</td>\n",
       "      <td>14.395</td>\n",
       "      <td>75.0</td>\n",
       "      <td>0.0</td>\n",
       "      <td>2.564949</td>\n",
       "    </tr>\n",
       "    <tr>\n",
       "      <th>4</th>\n",
       "      <td>5</td>\n",
       "      <td>2017-01-01 04:00:00</td>\n",
       "      <td>spring</td>\n",
       "      <td>No</td>\n",
       "      <td>No</td>\n",
       "      <td>Clear or partly cloudy</td>\n",
       "      <td>9.84</td>\n",
       "      <td>14.395</td>\n",
       "      <td>75.0</td>\n",
       "      <td>0.0</td>\n",
       "      <td>0.000000</td>\n",
       "    </tr>\n",
       "  </tbody>\n",
       "</table>\n",
       "</div>"
      ]
     },
     "metadata": {},
     "execution_count": 4
    }
   ],
   "metadata": {
    "colab": {},
    "colab_type": "code",
    "id": "kzuHtZEkIKRh",
    "outputId": "9d14832c-2eda-48eb-df41-548113a94a73"
   }
  },
  {
   "cell_type": "code",
   "execution_count": 5,
   "source": [
    "#Explore columns\r\n",
    "data.columns"
   ],
   "outputs": [
    {
     "output_type": "execute_result",
     "data": {
      "text/plain": [
       "Index(['id', 'timestamp', 'season', 'holiday', 'workingday', 'weather', 'temp',\n",
       "       'temp_feel', 'humidity', 'windspeed', 'demand'],\n",
       "      dtype='object')"
      ]
     },
     "metadata": {},
     "execution_count": 5
    }
   ],
   "metadata": {
    "colab": {},
    "colab_type": "code",
    "id": "0mhMZRlBIKRu",
    "outputId": "0a669059-5528-4ec0-d64b-8231f6aadf45"
   }
  },
  {
   "cell_type": "code",
   "execution_count": 6,
   "source": [
    "#Description\r\n",
    "data.describe()"
   ],
   "outputs": [
    {
     "output_type": "execute_result",
     "data": {
      "text/plain": [
       "                id         temp    temp_feel    humidity    windspeed  \\\n",
       "count  8708.000000  7506.000000  8606.000000  8669.00000  8508.000000   \n",
       "mean   4354.500000    20.089454    23.531261    60.99354    13.048589   \n",
       "std    2513.927405     8.023304     8.737997    19.67989     8.311058   \n",
       "min       1.000000     0.820000     0.760000     0.00000     0.000000   \n",
       "25%    2177.750000    13.940000    15.910000    46.00000     7.001500   \n",
       "50%    4354.500000    20.500000    24.240000    60.00000    12.998000   \n",
       "75%    6531.250000    26.240000    31.060000    77.00000    19.001200   \n",
       "max    8708.000000    41.000000    45.455000   100.00000    56.996900   \n",
       "\n",
       "            demand  \n",
       "count  8708.000000  \n",
       "mean      4.452725  \n",
       "std       1.493963  \n",
       "min       0.000000  \n",
       "25%       3.637586  \n",
       "50%       4.867534  \n",
       "75%       5.556828  \n",
       "max       6.792344  "
      ],
      "text/html": [
       "<div>\n",
       "<style scoped>\n",
       "    .dataframe tbody tr th:only-of-type {\n",
       "        vertical-align: middle;\n",
       "    }\n",
       "\n",
       "    .dataframe tbody tr th {\n",
       "        vertical-align: top;\n",
       "    }\n",
       "\n",
       "    .dataframe thead th {\n",
       "        text-align: right;\n",
       "    }\n",
       "</style>\n",
       "<table border=\"1\" class=\"dataframe\">\n",
       "  <thead>\n",
       "    <tr style=\"text-align: right;\">\n",
       "      <th></th>\n",
       "      <th>id</th>\n",
       "      <th>temp</th>\n",
       "      <th>temp_feel</th>\n",
       "      <th>humidity</th>\n",
       "      <th>windspeed</th>\n",
       "      <th>demand</th>\n",
       "    </tr>\n",
       "  </thead>\n",
       "  <tbody>\n",
       "    <tr>\n",
       "      <th>count</th>\n",
       "      <td>8708.000000</td>\n",
       "      <td>7506.000000</td>\n",
       "      <td>8606.000000</td>\n",
       "      <td>8669.00000</td>\n",
       "      <td>8508.000000</td>\n",
       "      <td>8708.000000</td>\n",
       "    </tr>\n",
       "    <tr>\n",
       "      <th>mean</th>\n",
       "      <td>4354.500000</td>\n",
       "      <td>20.089454</td>\n",
       "      <td>23.531261</td>\n",
       "      <td>60.99354</td>\n",
       "      <td>13.048589</td>\n",
       "      <td>4.452725</td>\n",
       "    </tr>\n",
       "    <tr>\n",
       "      <th>std</th>\n",
       "      <td>2513.927405</td>\n",
       "      <td>8.023304</td>\n",
       "      <td>8.737997</td>\n",
       "      <td>19.67989</td>\n",
       "      <td>8.311058</td>\n",
       "      <td>1.493963</td>\n",
       "    </tr>\n",
       "    <tr>\n",
       "      <th>min</th>\n",
       "      <td>1.000000</td>\n",
       "      <td>0.820000</td>\n",
       "      <td>0.760000</td>\n",
       "      <td>0.00000</td>\n",
       "      <td>0.000000</td>\n",
       "      <td>0.000000</td>\n",
       "    </tr>\n",
       "    <tr>\n",
       "      <th>25%</th>\n",
       "      <td>2177.750000</td>\n",
       "      <td>13.940000</td>\n",
       "      <td>15.910000</td>\n",
       "      <td>46.00000</td>\n",
       "      <td>7.001500</td>\n",
       "      <td>3.637586</td>\n",
       "    </tr>\n",
       "    <tr>\n",
       "      <th>50%</th>\n",
       "      <td>4354.500000</td>\n",
       "      <td>20.500000</td>\n",
       "      <td>24.240000</td>\n",
       "      <td>60.00000</td>\n",
       "      <td>12.998000</td>\n",
       "      <td>4.867534</td>\n",
       "    </tr>\n",
       "    <tr>\n",
       "      <th>75%</th>\n",
       "      <td>6531.250000</td>\n",
       "      <td>26.240000</td>\n",
       "      <td>31.060000</td>\n",
       "      <td>77.00000</td>\n",
       "      <td>19.001200</td>\n",
       "      <td>5.556828</td>\n",
       "    </tr>\n",
       "    <tr>\n",
       "      <th>max</th>\n",
       "      <td>8708.000000</td>\n",
       "      <td>41.000000</td>\n",
       "      <td>45.455000</td>\n",
       "      <td>100.00000</td>\n",
       "      <td>56.996900</td>\n",
       "      <td>6.792344</td>\n",
       "    </tr>\n",
       "  </tbody>\n",
       "</table>\n",
       "</div>"
      ]
     },
     "metadata": {},
     "execution_count": 6
    }
   ],
   "metadata": {
    "colab": {},
    "colab_type": "code",
    "id": "-SrTmyfJIKR1",
    "outputId": "12b270ca-8c3f-402b-d6c1-286c17e63fdd"
   }
  },
  {
   "cell_type": "markdown",
   "source": [
    "## Feature Selection & Generation\n"
   ],
   "metadata": {}
  },
  {
   "cell_type": "markdown",
   "source": [
    "#### Extract Year, Month, Day, and Hour information from the \"Timestamp\" column\n",
    "Year, Month, Day, and hour information can carry valuable information, lets say people tend to hire more bikes just before new year or something like that. Extracting those four values from timestamp can help us see the trends related to data."
   ],
   "metadata": {}
  },
  {
   "cell_type": "code",
   "execution_count": 7,
   "source": [
    "data.dtypes"
   ],
   "outputs": [
    {
     "output_type": "execute_result",
     "data": {
      "text/plain": [
       "id              int64\n",
       "timestamp      object\n",
       "season         object\n",
       "holiday        object\n",
       "workingday     object\n",
       "weather        object\n",
       "temp          float64\n",
       "temp_feel     float64\n",
       "humidity      float64\n",
       "windspeed     float64\n",
       "demand        float64\n",
       "dtype: object"
      ]
     },
     "metadata": {},
     "execution_count": 7
    }
   ],
   "metadata": {}
  },
  {
   "cell_type": "code",
   "execution_count": 8,
   "source": [
    "data[\"timestamp\"] = pd.to_datetime(data[\"timestamp\"], format=\"%Y-%m-%d %H:%M:%S\")\r\n",
    "test[\"timestamp\"] = pd.to_datetime(test[\"timestamp\"], format=\"%Y-%m-%d %H:%M:%S\")\r\n",
    "data.dtypes"
   ],
   "outputs": [
    {
     "output_type": "execute_result",
     "data": {
      "text/plain": [
       "id                     int64\n",
       "timestamp     datetime64[ns]\n",
       "season                object\n",
       "holiday               object\n",
       "workingday            object\n",
       "weather               object\n",
       "temp                 float64\n",
       "temp_feel            float64\n",
       "humidity             float64\n",
       "windspeed            float64\n",
       "demand               float64\n",
       "dtype: object"
      ]
     },
     "metadata": {},
     "execution_count": 8
    }
   ],
   "metadata": {}
  },
  {
   "cell_type": "code",
   "execution_count": 9,
   "source": [
    "data = data.assign(hour=data.timestamp.dt.hour,\r\n",
    "               day=data.timestamp.dt.day,\r\n",
    "               month=data.timestamp.dt.month,\r\n",
    "               year=data.timestamp.dt.year)\r\n",
    "data.drop(\"timestamp\",inplace=True, axis=1)\r\n",
    "test = test.assign(hour=test.timestamp.dt.hour,\r\n",
    "               day=test.timestamp.dt.day,\r\n",
    "               month=test.timestamp.dt.month,\r\n",
    "               year=test.timestamp.dt.year)\r\n",
    "test.drop(\"timestamp\",inplace=True, axis=1)\r\n",
    "data"
   ],
   "outputs": [
    {
     "output_type": "execute_result",
     "data": {
      "text/plain": [
       "        id  season holiday workingday                 weather   temp  \\\n",
       "0        1  spring      No         No  Clear or partly cloudy   9.84   \n",
       "1        2  spring      No         No  Clear or partly cloudy   9.02   \n",
       "2        3  spring      No         No  Clear or partly cloudy   9.02   \n",
       "3        4  spring      No         No  Clear or partly cloudy   9.84   \n",
       "4        5  spring      No         No  Clear or partly cloudy   9.84   \n",
       "...    ...     ...     ...        ...                     ...    ...   \n",
       "8703  8704    fall      No         No  Clear or partly cloudy  30.34   \n",
       "8704  8705    fall      No         No  Clear or partly cloudy  30.34   \n",
       "8705  8706    fall      No         No  Clear or partly cloudy  30.34   \n",
       "8706  8707    fall      No         No  Clear or partly cloudy  29.52   \n",
       "8707  8708    fall      No         No  Clear or partly cloudy  29.52   \n",
       "\n",
       "      temp_feel  humidity  windspeed    demand  hour  day  month  year  \n",
       "0        14.395      81.0     0.0000  2.772589     0    1      1  2017  \n",
       "1        13.635      80.0     0.0000  3.688879     1    1      1  2017  \n",
       "2        13.635      80.0     0.0000  3.465736     2    1      1  2017  \n",
       "3        14.395      75.0     0.0000  2.564949     3    1      1  2017  \n",
       "4        14.395      75.0     0.0000  0.000000     4    1      1  2017  \n",
       "...         ...       ...        ...       ...   ...  ...    ...   ...  \n",
       "8703     34.850      70.0    19.0012  5.030438     0    5      8  2018  \n",
       "8704     34.850      70.0    16.9979  4.465908     1    5      8  2018  \n",
       "8705     34.850      70.0    19.9995  4.290459     2    5      8  2018  \n",
       "8706     34.850      74.0    16.9979  3.713572     3    5      8  2018  \n",
       "8707     34.850      74.0    16.9979  2.639057     4    5      8  2018  \n",
       "\n",
       "[8708 rows x 14 columns]"
      ],
      "text/html": [
       "<div>\n",
       "<style scoped>\n",
       "    .dataframe tbody tr th:only-of-type {\n",
       "        vertical-align: middle;\n",
       "    }\n",
       "\n",
       "    .dataframe tbody tr th {\n",
       "        vertical-align: top;\n",
       "    }\n",
       "\n",
       "    .dataframe thead th {\n",
       "        text-align: right;\n",
       "    }\n",
       "</style>\n",
       "<table border=\"1\" class=\"dataframe\">\n",
       "  <thead>\n",
       "    <tr style=\"text-align: right;\">\n",
       "      <th></th>\n",
       "      <th>id</th>\n",
       "      <th>season</th>\n",
       "      <th>holiday</th>\n",
       "      <th>workingday</th>\n",
       "      <th>weather</th>\n",
       "      <th>temp</th>\n",
       "      <th>temp_feel</th>\n",
       "      <th>humidity</th>\n",
       "      <th>windspeed</th>\n",
       "      <th>demand</th>\n",
       "      <th>hour</th>\n",
       "      <th>day</th>\n",
       "      <th>month</th>\n",
       "      <th>year</th>\n",
       "    </tr>\n",
       "  </thead>\n",
       "  <tbody>\n",
       "    <tr>\n",
       "      <th>0</th>\n",
       "      <td>1</td>\n",
       "      <td>spring</td>\n",
       "      <td>No</td>\n",
       "      <td>No</td>\n",
       "      <td>Clear or partly cloudy</td>\n",
       "      <td>9.84</td>\n",
       "      <td>14.395</td>\n",
       "      <td>81.0</td>\n",
       "      <td>0.0000</td>\n",
       "      <td>2.772589</td>\n",
       "      <td>0</td>\n",
       "      <td>1</td>\n",
       "      <td>1</td>\n",
       "      <td>2017</td>\n",
       "    </tr>\n",
       "    <tr>\n",
       "      <th>1</th>\n",
       "      <td>2</td>\n",
       "      <td>spring</td>\n",
       "      <td>No</td>\n",
       "      <td>No</td>\n",
       "      <td>Clear or partly cloudy</td>\n",
       "      <td>9.02</td>\n",
       "      <td>13.635</td>\n",
       "      <td>80.0</td>\n",
       "      <td>0.0000</td>\n",
       "      <td>3.688879</td>\n",
       "      <td>1</td>\n",
       "      <td>1</td>\n",
       "      <td>1</td>\n",
       "      <td>2017</td>\n",
       "    </tr>\n",
       "    <tr>\n",
       "      <th>2</th>\n",
       "      <td>3</td>\n",
       "      <td>spring</td>\n",
       "      <td>No</td>\n",
       "      <td>No</td>\n",
       "      <td>Clear or partly cloudy</td>\n",
       "      <td>9.02</td>\n",
       "      <td>13.635</td>\n",
       "      <td>80.0</td>\n",
       "      <td>0.0000</td>\n",
       "      <td>3.465736</td>\n",
       "      <td>2</td>\n",
       "      <td>1</td>\n",
       "      <td>1</td>\n",
       "      <td>2017</td>\n",
       "    </tr>\n",
       "    <tr>\n",
       "      <th>3</th>\n",
       "      <td>4</td>\n",
       "      <td>spring</td>\n",
       "      <td>No</td>\n",
       "      <td>No</td>\n",
       "      <td>Clear or partly cloudy</td>\n",
       "      <td>9.84</td>\n",
       "      <td>14.395</td>\n",
       "      <td>75.0</td>\n",
       "      <td>0.0000</td>\n",
       "      <td>2.564949</td>\n",
       "      <td>3</td>\n",
       "      <td>1</td>\n",
       "      <td>1</td>\n",
       "      <td>2017</td>\n",
       "    </tr>\n",
       "    <tr>\n",
       "      <th>4</th>\n",
       "      <td>5</td>\n",
       "      <td>spring</td>\n",
       "      <td>No</td>\n",
       "      <td>No</td>\n",
       "      <td>Clear or partly cloudy</td>\n",
       "      <td>9.84</td>\n",
       "      <td>14.395</td>\n",
       "      <td>75.0</td>\n",
       "      <td>0.0000</td>\n",
       "      <td>0.000000</td>\n",
       "      <td>4</td>\n",
       "      <td>1</td>\n",
       "      <td>1</td>\n",
       "      <td>2017</td>\n",
       "    </tr>\n",
       "    <tr>\n",
       "      <th>...</th>\n",
       "      <td>...</td>\n",
       "      <td>...</td>\n",
       "      <td>...</td>\n",
       "      <td>...</td>\n",
       "      <td>...</td>\n",
       "      <td>...</td>\n",
       "      <td>...</td>\n",
       "      <td>...</td>\n",
       "      <td>...</td>\n",
       "      <td>...</td>\n",
       "      <td>...</td>\n",
       "      <td>...</td>\n",
       "      <td>...</td>\n",
       "      <td>...</td>\n",
       "    </tr>\n",
       "    <tr>\n",
       "      <th>8703</th>\n",
       "      <td>8704</td>\n",
       "      <td>fall</td>\n",
       "      <td>No</td>\n",
       "      <td>No</td>\n",
       "      <td>Clear or partly cloudy</td>\n",
       "      <td>30.34</td>\n",
       "      <td>34.850</td>\n",
       "      <td>70.0</td>\n",
       "      <td>19.0012</td>\n",
       "      <td>5.030438</td>\n",
       "      <td>0</td>\n",
       "      <td>5</td>\n",
       "      <td>8</td>\n",
       "      <td>2018</td>\n",
       "    </tr>\n",
       "    <tr>\n",
       "      <th>8704</th>\n",
       "      <td>8705</td>\n",
       "      <td>fall</td>\n",
       "      <td>No</td>\n",
       "      <td>No</td>\n",
       "      <td>Clear or partly cloudy</td>\n",
       "      <td>30.34</td>\n",
       "      <td>34.850</td>\n",
       "      <td>70.0</td>\n",
       "      <td>16.9979</td>\n",
       "      <td>4.465908</td>\n",
       "      <td>1</td>\n",
       "      <td>5</td>\n",
       "      <td>8</td>\n",
       "      <td>2018</td>\n",
       "    </tr>\n",
       "    <tr>\n",
       "      <th>8705</th>\n",
       "      <td>8706</td>\n",
       "      <td>fall</td>\n",
       "      <td>No</td>\n",
       "      <td>No</td>\n",
       "      <td>Clear or partly cloudy</td>\n",
       "      <td>30.34</td>\n",
       "      <td>34.850</td>\n",
       "      <td>70.0</td>\n",
       "      <td>19.9995</td>\n",
       "      <td>4.290459</td>\n",
       "      <td>2</td>\n",
       "      <td>5</td>\n",
       "      <td>8</td>\n",
       "      <td>2018</td>\n",
       "    </tr>\n",
       "    <tr>\n",
       "      <th>8706</th>\n",
       "      <td>8707</td>\n",
       "      <td>fall</td>\n",
       "      <td>No</td>\n",
       "      <td>No</td>\n",
       "      <td>Clear or partly cloudy</td>\n",
       "      <td>29.52</td>\n",
       "      <td>34.850</td>\n",
       "      <td>74.0</td>\n",
       "      <td>16.9979</td>\n",
       "      <td>3.713572</td>\n",
       "      <td>3</td>\n",
       "      <td>5</td>\n",
       "      <td>8</td>\n",
       "      <td>2018</td>\n",
       "    </tr>\n",
       "    <tr>\n",
       "      <th>8707</th>\n",
       "      <td>8708</td>\n",
       "      <td>fall</td>\n",
       "      <td>No</td>\n",
       "      <td>No</td>\n",
       "      <td>Clear or partly cloudy</td>\n",
       "      <td>29.52</td>\n",
       "      <td>34.850</td>\n",
       "      <td>74.0</td>\n",
       "      <td>16.9979</td>\n",
       "      <td>2.639057</td>\n",
       "      <td>4</td>\n",
       "      <td>5</td>\n",
       "      <td>8</td>\n",
       "      <td>2018</td>\n",
       "    </tr>\n",
       "  </tbody>\n",
       "</table>\n",
       "<p>8708 rows × 14 columns</p>\n",
       "</div>"
      ]
     },
     "metadata": {},
     "execution_count": 9
    }
   ],
   "metadata": {}
  },
  {
   "cell_type": "markdown",
   "source": [
    "#### Convert decimal data into categorical data\n",
    "Grouping numeric features with high range and non-uniform distribution will lead to clear understanding of their effects on success rate.\n",
    "\n",
    "Selecting 30th, 60th and 90th percentiles to let us fit our numeric daha into categories. Any value which is lower from 30th percentile of the values will be labeled as \"low\" And value which is between 30th and 60th percentile of our data will be labeled as \"medium\" And value which have between 60th and 90th percentile of our data will be labeled as \"high\" And any value higher than this will be labeled as \"extreme\""
   ],
   "metadata": {}
  },
  {
   "cell_type": "markdown",
   "source": [
    "#### Temperature"
   ],
   "metadata": {}
  },
  {
   "cell_type": "code",
   "execution_count": 10,
   "source": [
    "import numpy as np\r\n",
    "low = data['temp'].quantile(0.1)\r\n",
    "mid = data['temp'].quantile(0.35)\r\n",
    "high = data['temp'].quantile(0.65)\r\n",
    "extrhigh = data['temp'].quantile(0.9)\r\n",
    "\r\n",
    "conditions = [(data['temp']<low),\r\n",
    "              ((data['temp']>=low) & (data['temp']<mid)),\r\n",
    "              ((data['temp']>=mid) & (data['temp']<high)),\r\n",
    "              ((data['temp']>=high) & (data['temp']<extrhigh)),\r\n",
    "               (data['temp']>=extrhigh)]\r\n",
    "test_condt = [(test['temp']<low),\r\n",
    "              ((test['temp']>=low) & (test['temp']<mid)),\r\n",
    "              ((test['temp']>=mid) & (test['temp']<high)),\r\n",
    "              ((test['temp']>=high) & (test['temp']<extrhigh)),\r\n",
    "               (test['temp']>=extrhigh)]\r\n",
    "tags = ['extrLowTemp','lowTemp', 'medTemp','highTemp','extrHighTemp']\r\n",
    "data = data.assign(cat_temp = np.select(conditions,tags))\r\n",
    "test = test.assign(cat_temp = np.select(test_condt,tags))"
   ],
   "outputs": [],
   "metadata": {}
  },
  {
   "cell_type": "markdown",
   "source": [
    "#### temp_feel"
   ],
   "metadata": {}
  },
  {
   "cell_type": "code",
   "execution_count": 11,
   "source": [
    "low = data['temp_feel'].quantile(0.1)\r\n",
    "mid = data['temp_feel'].quantile(0.35)\r\n",
    "high = data['temp_feel'].quantile(0.65)\r\n",
    "extrhigh = data['temp_feel'].quantile(0.9)\r\n",
    "\r\n",
    "conditions = [(data['temp_feel']<low),\r\n",
    "              ((data['temp_feel']>=low) & (data['temp_feel']<mid)),\r\n",
    "              ((data['temp_feel']>=mid) & (data['temp_feel']<high)),\r\n",
    "              ((data['temp_feel']>=high) & (data['temp_feel']<extrhigh)),\r\n",
    "               (data['temp_feel']>=extrhigh)]\r\n",
    "test_condt = [(test['temp_feel']<low),\r\n",
    "              ((test['temp_feel']>=low) & (test['temp_feel']<mid)),\r\n",
    "              ((test['temp_feel']>=mid) & (test['temp_feel']<high)),\r\n",
    "              ((test['temp_feel']>=high) & (test['temp_feel']<extrhigh)),\r\n",
    "               (test['temp_feel']>=extrhigh)]\r\n",
    "tags = ['extrLowTempFeel','lowTempFeel', 'medTempFeel','highTempFeel','extrHighTempFeel']\r\n",
    "data = data.assign(cat_temp_feel = np.select(conditions,tags))\r\n",
    "test = test.assign(cat_temp_feel = np.select(test_condt,tags))"
   ],
   "outputs": [],
   "metadata": {}
  },
  {
   "cell_type": "markdown",
   "source": [
    "#### humidity"
   ],
   "metadata": {}
  },
  {
   "cell_type": "code",
   "execution_count": 12,
   "source": [
    "low = data['humidity'].quantile(0.1)\r\n",
    "mid = data['humidity'].quantile(0.35)\r\n",
    "high = data['humidity'].quantile(0.65)\r\n",
    "extrhigh = data['humidity'].quantile(0.9)\r\n",
    "\r\n",
    "conditions = [(data['humidity']<low),\r\n",
    "              ((data['humidity']>=low) & (data['humidity']<mid)),\r\n",
    "              ((data['humidity']>=mid) & (data['humidity']<high)),\r\n",
    "              ((data['humidity']>=high) & (data['humidity']<extrhigh)),\r\n",
    "               (data['humidity']>=extrhigh)]\r\n",
    "test_condt = [(test['humidity']<low),\r\n",
    "              ((test['humidity']>=low) & (test['humidity']<mid)),\r\n",
    "              ((test['humidity']>=mid) & (test['humidity']<high)),\r\n",
    "              ((test['humidity']>=high) & (test['humidity']<extrhigh)),\r\n",
    "               (test['humidity']>=extrhigh)]\r\n",
    "tags = ['extrLowHum','lowHum', 'medHum','highHum','extrHighHum']\r\n",
    "data = data.assign(cat_humidity = np.select(conditions,tags))\r\n",
    "test = test.assign(cat_humidity = np.select(test_condt,tags))"
   ],
   "outputs": [],
   "metadata": {}
  },
  {
   "cell_type": "markdown",
   "source": [
    "#### windspeed"
   ],
   "metadata": {}
  },
  {
   "cell_type": "code",
   "execution_count": 13,
   "source": [
    "low = data['windspeed'].quantile(0.1)\r\n",
    "mid = data['windspeed'].quantile(0.35)\r\n",
    "high = data['windspeed'].quantile(0.65)\r\n",
    "extrhigh = data['windspeed'].quantile(0.9)\r\n",
    "\r\n",
    "conditions = [(data['windspeed']<low),\r\n",
    "              ((data['windspeed']>=low) & (data['windspeed']<mid)),\r\n",
    "              ((data['windspeed']>=mid) & (data['windspeed']<high)),\r\n",
    "              ((data['windspeed']>=high) & (data['windspeed']<extrhigh)),\r\n",
    "               (data['windspeed']>=extrhigh)]\r\n",
    "test_condt = [(test['windspeed']<low),\r\n",
    "              ((test['windspeed']>=low) & (test['windspeed']<mid)),\r\n",
    "              ((test['windspeed']>=mid) & (test['windspeed']<high)),\r\n",
    "              ((test['windspeed']>=high) & (test['windspeed']<extrhigh)),\r\n",
    "               (test['windspeed']>=extrhigh)]\r\n",
    "tags = ['extrLowWindspeed','lowWindspeed', 'medWindspeed','highWindspeed','extrHighWindspeed']\r\n",
    "data = data.assign(cat_windspeed = np.select(conditions,tags))\r\n",
    "test = test.assign(cat_windspeed = np.select(test_condt,tags))"
   ],
   "outputs": [],
   "metadata": {}
  },
  {
   "cell_type": "markdown",
   "source": [
    "#### Dropping redundant columns"
   ],
   "metadata": {}
  },
  {
   "cell_type": "code",
   "execution_count": 14,
   "source": [
    "data.drop(\"temp\",inplace=True, axis=1)\r\n",
    "data.drop(\"temp_feel\",inplace=True, axis=1)\r\n",
    "data.drop(\"humidity\",inplace=True, axis=1)\r\n",
    "data.drop(\"windspeed\",inplace=True, axis=1)\r\n",
    "test.drop(\"temp\",inplace=True, axis=1)\r\n",
    "test.drop(\"temp_feel\",inplace=True, axis=1)\r\n",
    "test.drop(\"humidity\",inplace=True, axis=1)\r\n",
    "test.drop(\"windspeed\",inplace=True, axis=1)\r\n",
    "data"
   ],
   "outputs": [
    {
     "output_type": "execute_result",
     "data": {
      "text/plain": [
       "        id  season holiday workingday                 weather    demand  hour  \\\n",
       "0        1  spring      No         No  Clear or partly cloudy  2.772589     0   \n",
       "1        2  spring      No         No  Clear or partly cloudy  3.688879     1   \n",
       "2        3  spring      No         No  Clear or partly cloudy  3.465736     2   \n",
       "3        4  spring      No         No  Clear or partly cloudy  2.564949     3   \n",
       "4        5  spring      No         No  Clear or partly cloudy  0.000000     4   \n",
       "...    ...     ...     ...        ...                     ...       ...   ...   \n",
       "8703  8704    fall      No         No  Clear or partly cloudy  5.030438     0   \n",
       "8704  8705    fall      No         No  Clear or partly cloudy  4.465908     1   \n",
       "8705  8706    fall      No         No  Clear or partly cloudy  4.290459     2   \n",
       "8706  8707    fall      No         No  Clear or partly cloudy  3.713572     3   \n",
       "8707  8708    fall      No         No  Clear or partly cloudy  2.639057     4   \n",
       "\n",
       "      day  month  year      cat_temp     cat_temp_feel cat_humidity  \\\n",
       "0       1      1  2017       lowTemp       lowTempFeel      highHum   \n",
       "1       1      1  2017       lowTemp       lowTempFeel      highHum   \n",
       "2       1      1  2017       lowTemp       lowTempFeel      highHum   \n",
       "3       1      1  2017       lowTemp       lowTempFeel      highHum   \n",
       "4       1      1  2017       lowTemp       lowTempFeel      highHum   \n",
       "...   ...    ...   ...           ...               ...          ...   \n",
       "8703    5      8  2018  extrHighTemp  extrHighTempFeel      highHum   \n",
       "8704    5      8  2018  extrHighTemp  extrHighTempFeel      highHum   \n",
       "8705    5      8  2018  extrHighTemp  extrHighTempFeel      highHum   \n",
       "8706    5      8  2018      highTemp  extrHighTempFeel      highHum   \n",
       "8707    5      8  2018      highTemp  extrHighTempFeel      highHum   \n",
       "\n",
       "      cat_windspeed  \n",
       "0      lowWindspeed  \n",
       "1      lowWindspeed  \n",
       "2      lowWindspeed  \n",
       "3      lowWindspeed  \n",
       "4      lowWindspeed  \n",
       "...             ...  \n",
       "8703  highWindspeed  \n",
       "8704  highWindspeed  \n",
       "8705  highWindspeed  \n",
       "8706  highWindspeed  \n",
       "8707  highWindspeed  \n",
       "\n",
       "[8708 rows x 14 columns]"
      ],
      "text/html": [
       "<div>\n",
       "<style scoped>\n",
       "    .dataframe tbody tr th:only-of-type {\n",
       "        vertical-align: middle;\n",
       "    }\n",
       "\n",
       "    .dataframe tbody tr th {\n",
       "        vertical-align: top;\n",
       "    }\n",
       "\n",
       "    .dataframe thead th {\n",
       "        text-align: right;\n",
       "    }\n",
       "</style>\n",
       "<table border=\"1\" class=\"dataframe\">\n",
       "  <thead>\n",
       "    <tr style=\"text-align: right;\">\n",
       "      <th></th>\n",
       "      <th>id</th>\n",
       "      <th>season</th>\n",
       "      <th>holiday</th>\n",
       "      <th>workingday</th>\n",
       "      <th>weather</th>\n",
       "      <th>demand</th>\n",
       "      <th>hour</th>\n",
       "      <th>day</th>\n",
       "      <th>month</th>\n",
       "      <th>year</th>\n",
       "      <th>cat_temp</th>\n",
       "      <th>cat_temp_feel</th>\n",
       "      <th>cat_humidity</th>\n",
       "      <th>cat_windspeed</th>\n",
       "    </tr>\n",
       "  </thead>\n",
       "  <tbody>\n",
       "    <tr>\n",
       "      <th>0</th>\n",
       "      <td>1</td>\n",
       "      <td>spring</td>\n",
       "      <td>No</td>\n",
       "      <td>No</td>\n",
       "      <td>Clear or partly cloudy</td>\n",
       "      <td>2.772589</td>\n",
       "      <td>0</td>\n",
       "      <td>1</td>\n",
       "      <td>1</td>\n",
       "      <td>2017</td>\n",
       "      <td>lowTemp</td>\n",
       "      <td>lowTempFeel</td>\n",
       "      <td>highHum</td>\n",
       "      <td>lowWindspeed</td>\n",
       "    </tr>\n",
       "    <tr>\n",
       "      <th>1</th>\n",
       "      <td>2</td>\n",
       "      <td>spring</td>\n",
       "      <td>No</td>\n",
       "      <td>No</td>\n",
       "      <td>Clear or partly cloudy</td>\n",
       "      <td>3.688879</td>\n",
       "      <td>1</td>\n",
       "      <td>1</td>\n",
       "      <td>1</td>\n",
       "      <td>2017</td>\n",
       "      <td>lowTemp</td>\n",
       "      <td>lowTempFeel</td>\n",
       "      <td>highHum</td>\n",
       "      <td>lowWindspeed</td>\n",
       "    </tr>\n",
       "    <tr>\n",
       "      <th>2</th>\n",
       "      <td>3</td>\n",
       "      <td>spring</td>\n",
       "      <td>No</td>\n",
       "      <td>No</td>\n",
       "      <td>Clear or partly cloudy</td>\n",
       "      <td>3.465736</td>\n",
       "      <td>2</td>\n",
       "      <td>1</td>\n",
       "      <td>1</td>\n",
       "      <td>2017</td>\n",
       "      <td>lowTemp</td>\n",
       "      <td>lowTempFeel</td>\n",
       "      <td>highHum</td>\n",
       "      <td>lowWindspeed</td>\n",
       "    </tr>\n",
       "    <tr>\n",
       "      <th>3</th>\n",
       "      <td>4</td>\n",
       "      <td>spring</td>\n",
       "      <td>No</td>\n",
       "      <td>No</td>\n",
       "      <td>Clear or partly cloudy</td>\n",
       "      <td>2.564949</td>\n",
       "      <td>3</td>\n",
       "      <td>1</td>\n",
       "      <td>1</td>\n",
       "      <td>2017</td>\n",
       "      <td>lowTemp</td>\n",
       "      <td>lowTempFeel</td>\n",
       "      <td>highHum</td>\n",
       "      <td>lowWindspeed</td>\n",
       "    </tr>\n",
       "    <tr>\n",
       "      <th>4</th>\n",
       "      <td>5</td>\n",
       "      <td>spring</td>\n",
       "      <td>No</td>\n",
       "      <td>No</td>\n",
       "      <td>Clear or partly cloudy</td>\n",
       "      <td>0.000000</td>\n",
       "      <td>4</td>\n",
       "      <td>1</td>\n",
       "      <td>1</td>\n",
       "      <td>2017</td>\n",
       "      <td>lowTemp</td>\n",
       "      <td>lowTempFeel</td>\n",
       "      <td>highHum</td>\n",
       "      <td>lowWindspeed</td>\n",
       "    </tr>\n",
       "    <tr>\n",
       "      <th>...</th>\n",
       "      <td>...</td>\n",
       "      <td>...</td>\n",
       "      <td>...</td>\n",
       "      <td>...</td>\n",
       "      <td>...</td>\n",
       "      <td>...</td>\n",
       "      <td>...</td>\n",
       "      <td>...</td>\n",
       "      <td>...</td>\n",
       "      <td>...</td>\n",
       "      <td>...</td>\n",
       "      <td>...</td>\n",
       "      <td>...</td>\n",
       "      <td>...</td>\n",
       "    </tr>\n",
       "    <tr>\n",
       "      <th>8703</th>\n",
       "      <td>8704</td>\n",
       "      <td>fall</td>\n",
       "      <td>No</td>\n",
       "      <td>No</td>\n",
       "      <td>Clear or partly cloudy</td>\n",
       "      <td>5.030438</td>\n",
       "      <td>0</td>\n",
       "      <td>5</td>\n",
       "      <td>8</td>\n",
       "      <td>2018</td>\n",
       "      <td>extrHighTemp</td>\n",
       "      <td>extrHighTempFeel</td>\n",
       "      <td>highHum</td>\n",
       "      <td>highWindspeed</td>\n",
       "    </tr>\n",
       "    <tr>\n",
       "      <th>8704</th>\n",
       "      <td>8705</td>\n",
       "      <td>fall</td>\n",
       "      <td>No</td>\n",
       "      <td>No</td>\n",
       "      <td>Clear or partly cloudy</td>\n",
       "      <td>4.465908</td>\n",
       "      <td>1</td>\n",
       "      <td>5</td>\n",
       "      <td>8</td>\n",
       "      <td>2018</td>\n",
       "      <td>extrHighTemp</td>\n",
       "      <td>extrHighTempFeel</td>\n",
       "      <td>highHum</td>\n",
       "      <td>highWindspeed</td>\n",
       "    </tr>\n",
       "    <tr>\n",
       "      <th>8705</th>\n",
       "      <td>8706</td>\n",
       "      <td>fall</td>\n",
       "      <td>No</td>\n",
       "      <td>No</td>\n",
       "      <td>Clear or partly cloudy</td>\n",
       "      <td>4.290459</td>\n",
       "      <td>2</td>\n",
       "      <td>5</td>\n",
       "      <td>8</td>\n",
       "      <td>2018</td>\n",
       "      <td>extrHighTemp</td>\n",
       "      <td>extrHighTempFeel</td>\n",
       "      <td>highHum</td>\n",
       "      <td>highWindspeed</td>\n",
       "    </tr>\n",
       "    <tr>\n",
       "      <th>8706</th>\n",
       "      <td>8707</td>\n",
       "      <td>fall</td>\n",
       "      <td>No</td>\n",
       "      <td>No</td>\n",
       "      <td>Clear or partly cloudy</td>\n",
       "      <td>3.713572</td>\n",
       "      <td>3</td>\n",
       "      <td>5</td>\n",
       "      <td>8</td>\n",
       "      <td>2018</td>\n",
       "      <td>highTemp</td>\n",
       "      <td>extrHighTempFeel</td>\n",
       "      <td>highHum</td>\n",
       "      <td>highWindspeed</td>\n",
       "    </tr>\n",
       "    <tr>\n",
       "      <th>8707</th>\n",
       "      <td>8708</td>\n",
       "      <td>fall</td>\n",
       "      <td>No</td>\n",
       "      <td>No</td>\n",
       "      <td>Clear or partly cloudy</td>\n",
       "      <td>2.639057</td>\n",
       "      <td>4</td>\n",
       "      <td>5</td>\n",
       "      <td>8</td>\n",
       "      <td>2018</td>\n",
       "      <td>highTemp</td>\n",
       "      <td>extrHighTempFeel</td>\n",
       "      <td>highHum</td>\n",
       "      <td>highWindspeed</td>\n",
       "    </tr>\n",
       "  </tbody>\n",
       "</table>\n",
       "<p>8708 rows × 14 columns</p>\n",
       "</div>"
      ]
     },
     "metadata": {},
     "execution_count": 14
    }
   ],
   "metadata": {}
  },
  {
   "cell_type": "markdown",
   "source": [
    "## Data Analysis\n",
    "In this section, I will be analyzing data and creating plots to show what effects higher demand"
   ],
   "metadata": {}
  },
  {
   "cell_type": "markdown",
   "source": [
    "### Season\n",
    "As it can be seen below; most of the seasons have similar demands but season 0, which is \"spring\" has lower demand"
   ],
   "metadata": {}
  },
  {
   "cell_type": "code",
   "execution_count": 15,
   "source": [
    "seasonalDemand = data[['season','demand']]\r\n",
    "seasonalDemand = seasonalDemand.groupby(['season']).mean().sort_values(by=['demand'], ascending = False)\r\n",
    "seasonalDemand"
   ],
   "outputs": [
    {
     "output_type": "execute_result",
     "data": {
      "text/plain": [
       "          demand\n",
       "season          \n",
       "fall    4.770098\n",
       "summer  4.703267\n",
       "winter  4.426184\n",
       "spring  3.984206"
      ],
      "text/html": [
       "<div>\n",
       "<style scoped>\n",
       "    .dataframe tbody tr th:only-of-type {\n",
       "        vertical-align: middle;\n",
       "    }\n",
       "\n",
       "    .dataframe tbody tr th {\n",
       "        vertical-align: top;\n",
       "    }\n",
       "\n",
       "    .dataframe thead th {\n",
       "        text-align: right;\n",
       "    }\n",
       "</style>\n",
       "<table border=\"1\" class=\"dataframe\">\n",
       "  <thead>\n",
       "    <tr style=\"text-align: right;\">\n",
       "      <th></th>\n",
       "      <th>demand</th>\n",
       "    </tr>\n",
       "    <tr>\n",
       "      <th>season</th>\n",
       "      <th></th>\n",
       "    </tr>\n",
       "  </thead>\n",
       "  <tbody>\n",
       "    <tr>\n",
       "      <th>fall</th>\n",
       "      <td>4.770098</td>\n",
       "    </tr>\n",
       "    <tr>\n",
       "      <th>summer</th>\n",
       "      <td>4.703267</td>\n",
       "    </tr>\n",
       "    <tr>\n",
       "      <th>winter</th>\n",
       "      <td>4.426184</td>\n",
       "    </tr>\n",
       "    <tr>\n",
       "      <th>spring</th>\n",
       "      <td>3.984206</td>\n",
       "    </tr>\n",
       "  </tbody>\n",
       "</table>\n",
       "</div>"
      ]
     },
     "metadata": {},
     "execution_count": 15
    }
   ],
   "metadata": {}
  },
  {
   "cell_type": "markdown",
   "source": [
    "### Weather\n",
    "As it can be seen below, the range of demand is wider in weather with Light snow of rain having the least demand, this shows that when weather condition is softer, people tend not to use bikes, which is contradicts what an actual human would do. Who doesn't love to use their bikes while sun is shining? Maybe this shows us people tend to use bikes when they try to escape weather-locked traffic."
   ],
   "metadata": {}
  },
  {
   "cell_type": "code",
   "execution_count": 16,
   "source": [
    "weatherDemand = data[['weather','demand']]\r\n",
    "weatherDemand = weatherDemand.groupby(['weather']).mean().sort_values(by=['demand'], ascending = False)\r\n",
    "weatherDemand"
   ],
   "outputs": [
    {
     "output_type": "execute_result",
     "data": {
      "text/plain": [
       "                                     demand\n",
       "weather                                    \n",
       "heavy rain/ice pellets/snow + fog  5.099866\n",
       "Clear or partly cloudy             4.544039\n",
       "Mist                               4.405137\n",
       "Light snow or rain                 3.839389"
      ],
      "text/html": [
       "<div>\n",
       "<style scoped>\n",
       "    .dataframe tbody tr th:only-of-type {\n",
       "        vertical-align: middle;\n",
       "    }\n",
       "\n",
       "    .dataframe tbody tr th {\n",
       "        vertical-align: top;\n",
       "    }\n",
       "\n",
       "    .dataframe thead th {\n",
       "        text-align: right;\n",
       "    }\n",
       "</style>\n",
       "<table border=\"1\" class=\"dataframe\">\n",
       "  <thead>\n",
       "    <tr style=\"text-align: right;\">\n",
       "      <th></th>\n",
       "      <th>demand</th>\n",
       "    </tr>\n",
       "    <tr>\n",
       "      <th>weather</th>\n",
       "      <th></th>\n",
       "    </tr>\n",
       "  </thead>\n",
       "  <tbody>\n",
       "    <tr>\n",
       "      <th>heavy rain/ice pellets/snow + fog</th>\n",
       "      <td>5.099866</td>\n",
       "    </tr>\n",
       "    <tr>\n",
       "      <th>Clear or partly cloudy</th>\n",
       "      <td>4.544039</td>\n",
       "    </tr>\n",
       "    <tr>\n",
       "      <th>Mist</th>\n",
       "      <td>4.405137</td>\n",
       "    </tr>\n",
       "    <tr>\n",
       "      <th>Light snow or rain</th>\n",
       "      <td>3.839389</td>\n",
       "    </tr>\n",
       "  </tbody>\n",
       "</table>\n",
       "</div>"
      ]
     },
     "metadata": {},
     "execution_count": 16
    }
   ],
   "metadata": {}
  },
  {
   "cell_type": "markdown",
   "source": [
    "### Holiday\n",
    "The data below shows that Holidays do not effect the use of the bikes."
   ],
   "metadata": {}
  },
  {
   "cell_type": "code",
   "execution_count": 17,
   "source": [
    "holidayDemand = data[['holiday','demand']]\r\n",
    "holidayDemand = holidayDemand.groupby(['holiday']).mean().sort_values(by=['demand'], ascending = False)\r\n",
    "holidayDemand"
   ],
   "outputs": [
    {
     "output_type": "execute_result",
     "data": {
      "text/plain": [
       "           demand\n",
       "holiday          \n",
       "No       4.453008\n",
       "Yes      4.442705"
      ],
      "text/html": [
       "<div>\n",
       "<style scoped>\n",
       "    .dataframe tbody tr th:only-of-type {\n",
       "        vertical-align: middle;\n",
       "    }\n",
       "\n",
       "    .dataframe tbody tr th {\n",
       "        vertical-align: top;\n",
       "    }\n",
       "\n",
       "    .dataframe thead th {\n",
       "        text-align: right;\n",
       "    }\n",
       "</style>\n",
       "<table border=\"1\" class=\"dataframe\">\n",
       "  <thead>\n",
       "    <tr style=\"text-align: right;\">\n",
       "      <th></th>\n",
       "      <th>demand</th>\n",
       "    </tr>\n",
       "    <tr>\n",
       "      <th>holiday</th>\n",
       "      <th></th>\n",
       "    </tr>\n",
       "  </thead>\n",
       "  <tbody>\n",
       "    <tr>\n",
       "      <th>No</th>\n",
       "      <td>4.453008</td>\n",
       "    </tr>\n",
       "    <tr>\n",
       "      <th>Yes</th>\n",
       "      <td>4.442705</td>\n",
       "    </tr>\n",
       "  </tbody>\n",
       "</table>\n",
       "</div>"
      ]
     },
     "metadata": {},
     "execution_count": 17
    }
   ],
   "metadata": {}
  },
  {
   "cell_type": "markdown",
   "source": [
    "### Workingday\n",
    "As we observed in holiday, working days also have a low effect on bike usage."
   ],
   "metadata": {}
  },
  {
   "cell_type": "code",
   "execution_count": 18,
   "source": [
    "workdayDemand = data[['workingday','demand']]\r\n",
    "workdayDemand = workdayDemand.groupby(['workingday']).mean().sort_values(by=['demand'], ascending = False)\r\n",
    "workdayDemand"
   ],
   "outputs": [
    {
     "output_type": "execute_result",
     "data": {
      "text/plain": [
       "              demand\n",
       "workingday          \n",
       "No          4.492536\n",
       "Yes         4.434262"
      ],
      "text/html": [
       "<div>\n",
       "<style scoped>\n",
       "    .dataframe tbody tr th:only-of-type {\n",
       "        vertical-align: middle;\n",
       "    }\n",
       "\n",
       "    .dataframe tbody tr th {\n",
       "        vertical-align: top;\n",
       "    }\n",
       "\n",
       "    .dataframe thead th {\n",
       "        text-align: right;\n",
       "    }\n",
       "</style>\n",
       "<table border=\"1\" class=\"dataframe\">\n",
       "  <thead>\n",
       "    <tr style=\"text-align: right;\">\n",
       "      <th></th>\n",
       "      <th>demand</th>\n",
       "    </tr>\n",
       "    <tr>\n",
       "      <th>workingday</th>\n",
       "      <th></th>\n",
       "    </tr>\n",
       "  </thead>\n",
       "  <tbody>\n",
       "    <tr>\n",
       "      <th>No</th>\n",
       "      <td>4.492536</td>\n",
       "    </tr>\n",
       "    <tr>\n",
       "      <th>Yes</th>\n",
       "      <td>4.434262</td>\n",
       "    </tr>\n",
       "  </tbody>\n",
       "</table>\n",
       "</div>"
      ]
     },
     "metadata": {},
     "execution_count": 18
    }
   ],
   "metadata": {}
  },
  {
   "cell_type": "markdown",
   "source": [
    "### Hours of day\n",
    "The plot below shows us that, people tend to use the bikes when they are going to work (7-9) or coming back from the work (16-18) at most, while late-night time seeing the lowest usages of the bikes"
   ],
   "metadata": {}
  },
  {
   "cell_type": "code",
   "execution_count": 19,
   "source": [
    "hourlyDemand = data[['hour','demand']]\r\n",
    "hourlyDemand = hourlyDemand.groupby(['hour']).mean()\r\n",
    "hourlyDemand.plot()"
   ],
   "outputs": [
    {
     "output_type": "execute_result",
     "data": {
      "text/plain": [
       "<matplotlib.axes._subplots.AxesSubplot at 0x7f3aae3d8d90>"
      ]
     },
     "metadata": {},
     "execution_count": 19
    },
    {
     "output_type": "display_data",
     "data": {
      "text/plain": [
       "<Figure size 432x288 with 1 Axes>"
      ],
      "image/png": "[encoded data removed]"
     },
     "metadata": {
      "needs_background": "light"
     }
    }
   ],
   "metadata": {}
  },
  {
   "cell_type": "markdown",
   "source": [
    "### Days of the Month\n",
    "Do not let the sharp edges of the plot below distract you, daily demand ranges between 4.3-4.6, which does not provide any usefull info, hence we can drop this column later on."
   ],
   "metadata": {}
  },
  {
   "cell_type": "code",
   "execution_count": 20,
   "source": [
    "dailyDemand = data[['day','demand']]\r\n",
    "dailyDemand = dailyDemand.groupby(['day']).mean()\r\n",
    "dailyDemand.plot()"
   ],
   "outputs": [
    {
     "output_type": "execute_result",
     "data": {
      "text/plain": [
       "<matplotlib.axes._subplots.AxesSubplot at 0x7f3aa6253d90>"
      ]
     },
     "metadata": {},
     "execution_count": 20
    },
    {
     "output_type": "display_data",
     "data": {
      "text/plain": [
       "<Figure size 432x288 with 1 Axes>"
      ],
      "image/png": "[encoded data removed]"
     },
     "metadata": {
      "needs_background": "light"
     }
    }
   ],
   "metadata": {}
  },
  {
   "cell_type": "markdown",
   "source": [
    "### Months of the Year\n",
    "The plot below shows us that people tend to use bikes when it is summer, but avoid using it when it is winter, which is an usefull information, hence this column will be kept."
   ],
   "metadata": {}
  },
  {
   "cell_type": "code",
   "execution_count": 21,
   "source": [
    "monthlyDemand = data[['month','demand']]\r\n",
    "monthlyDemand = monthlyDemand.groupby(['month']).mean()\r\n",
    "monthlyDemand.plot()"
   ],
   "outputs": [
    {
     "output_type": "execute_result",
     "data": {
      "text/plain": [
       "<matplotlib.axes._subplots.AxesSubplot at 0x7f3aa621d210>"
      ]
     },
     "metadata": {},
     "execution_count": 21
    },
    {
     "output_type": "display_data",
     "data": {
      "text/plain": [
       "<Figure size 432x288 with 1 Axes>"
      ],
      "image/png": "[encoded data removed]"
     },
     "metadata": {
      "needs_background": "light"
     }
    }
   ],
   "metadata": {}
  },
  {
   "cell_type": "markdown",
   "source": [
    "### Years of the... Life?\n",
    "The data below shows us that popularity of the app increases as the time passes, therefore we can convert this information into another column: How many years passed since 2017, then the model we built can use this value as a multiplier for its results... maybe?"
   ],
   "metadata": {}
  },
  {
   "cell_type": "code",
   "execution_count": 22,
   "source": [
    "yearlyDemand = data[['year','demand']]\r\n",
    "yearlyDemand = yearlyDemand.groupby(['year']).mean()\r\n",
    "yearlyDemand.plot()"
   ],
   "outputs": [
    {
     "output_type": "execute_result",
     "data": {
      "text/plain": [
       "<matplotlib.axes._subplots.AxesSubplot at 0x7f3aa61bbf10>"
      ]
     },
     "metadata": {},
     "execution_count": 22
    },
    {
     "output_type": "display_data",
     "data": {
      "text/plain": [
       "<Figure size 432x288 with 1 Axes>"
      ],
      "image/png": "[encoded data removed]"
     },
     "metadata": {
      "needs_background": "light"
     }
    }
   ],
   "metadata": {}
  },
  {
   "cell_type": "code",
   "execution_count": 23,
   "source": [
    "data = data.assign(years_multiplier = data.year - 2017)\r\n",
    "test = test.assign(years_multiplier = test.year - 2017)"
   ],
   "outputs": [],
   "metadata": {}
  },
  {
   "cell_type": "markdown",
   "source": [
    "### Categorical Temperatures\n",
    "Higher the temperature, higher the demand."
   ],
   "metadata": {}
  },
  {
   "cell_type": "code",
   "execution_count": 24,
   "source": [
    "tempDemand = data[['cat_temp','demand']]\r\n",
    "tempDemand = tempDemand.groupby(['cat_temp']).mean().sort_values(by=['demand'], ascending = False)\r\n",
    "tempDemand"
   ],
   "outputs": [
    {
     "output_type": "execute_result",
     "data": {
      "text/plain": [
       "                demand\n",
       "cat_temp              \n",
       "extrHighTemp  5.536945\n",
       "highTemp      4.791361\n",
       "0             4.482665\n",
       "medTemp       4.468095\n",
       "lowTemp       3.955310\n",
       "extrLowTemp   3.341200"
      ],
      "text/html": [
       "<div>\n",
       "<style scoped>\n",
       "    .dataframe tbody tr th:only-of-type {\n",
       "        vertical-align: middle;\n",
       "    }\n",
       "\n",
       "    .dataframe tbody tr th {\n",
       "        vertical-align: top;\n",
       "    }\n",
       "\n",
       "    .dataframe thead th {\n",
       "        text-align: right;\n",
       "    }\n",
       "</style>\n",
       "<table border=\"1\" class=\"dataframe\">\n",
       "  <thead>\n",
       "    <tr style=\"text-align: right;\">\n",
       "      <th></th>\n",
       "      <th>demand</th>\n",
       "    </tr>\n",
       "    <tr>\n",
       "      <th>cat_temp</th>\n",
       "      <th></th>\n",
       "    </tr>\n",
       "  </thead>\n",
       "  <tbody>\n",
       "    <tr>\n",
       "      <th>extrHighTemp</th>\n",
       "      <td>5.536945</td>\n",
       "    </tr>\n",
       "    <tr>\n",
       "      <th>highTemp</th>\n",
       "      <td>4.791361</td>\n",
       "    </tr>\n",
       "    <tr>\n",
       "      <th>0</th>\n",
       "      <td>4.482665</td>\n",
       "    </tr>\n",
       "    <tr>\n",
       "      <th>medTemp</th>\n",
       "      <td>4.468095</td>\n",
       "    </tr>\n",
       "    <tr>\n",
       "      <th>lowTemp</th>\n",
       "      <td>3.955310</td>\n",
       "    </tr>\n",
       "    <tr>\n",
       "      <th>extrLowTemp</th>\n",
       "      <td>3.341200</td>\n",
       "    </tr>\n",
       "  </tbody>\n",
       "</table>\n",
       "</div>"
      ]
     },
     "metadata": {},
     "execution_count": 24
    }
   ],
   "metadata": {}
  },
  {
   "cell_type": "code",
   "execution_count": 25,
   "source": [
    "tempFeelDemand = data[['cat_temp_feel','demand']]\r\n",
    "tempFeelDemand = tempFeelDemand.groupby(['cat_temp_feel']).mean().sort_values(by=['demand'], ascending = False)\r\n",
    "tempFeelDemand"
   ],
   "outputs": [
    {
     "output_type": "execute_result",
     "data": {
      "text/plain": [
       "                    demand\n",
       "cat_temp_feel             \n",
       "extrHighTempFeel  5.424973\n",
       "highTempFeel      4.867460\n",
       "medTempFeel       4.437806\n",
       "0                 4.208293\n",
       "lowTempFeel       3.944204\n",
       "extrLowTempFeel   3.443129"
      ],
      "text/html": [
       "<div>\n",
       "<style scoped>\n",
       "    .dataframe tbody tr th:only-of-type {\n",
       "        vertical-align: middle;\n",
       "    }\n",
       "\n",
       "    .dataframe tbody tr th {\n",
       "        vertical-align: top;\n",
       "    }\n",
       "\n",
       "    .dataframe thead th {\n",
       "        text-align: right;\n",
       "    }\n",
       "</style>\n",
       "<table border=\"1\" class=\"dataframe\">\n",
       "  <thead>\n",
       "    <tr style=\"text-align: right;\">\n",
       "      <th></th>\n",
       "      <th>demand</th>\n",
       "    </tr>\n",
       "    <tr>\n",
       "      <th>cat_temp_feel</th>\n",
       "      <th></th>\n",
       "    </tr>\n",
       "  </thead>\n",
       "  <tbody>\n",
       "    <tr>\n",
       "      <th>extrHighTempFeel</th>\n",
       "      <td>5.424973</td>\n",
       "    </tr>\n",
       "    <tr>\n",
       "      <th>highTempFeel</th>\n",
       "      <td>4.867460</td>\n",
       "    </tr>\n",
       "    <tr>\n",
       "      <th>medTempFeel</th>\n",
       "      <td>4.437806</td>\n",
       "    </tr>\n",
       "    <tr>\n",
       "      <th>0</th>\n",
       "      <td>4.208293</td>\n",
       "    </tr>\n",
       "    <tr>\n",
       "      <th>lowTempFeel</th>\n",
       "      <td>3.944204</td>\n",
       "    </tr>\n",
       "    <tr>\n",
       "      <th>extrLowTempFeel</th>\n",
       "      <td>3.443129</td>\n",
       "    </tr>\n",
       "  </tbody>\n",
       "</table>\n",
       "</div>"
      ]
     },
     "metadata": {},
     "execution_count": 25
    }
   ],
   "metadata": {}
  },
  {
   "cell_type": "markdown",
   "source": [
    "### Categorical Humidity\n",
    "Lower the humidity, higher the demand."
   ],
   "metadata": {}
  },
  {
   "cell_type": "code",
   "execution_count": 26,
   "source": [
    "humidityDemand = data[['cat_humidity','demand']]\r\n",
    "humidityDemand = humidityDemand.groupby(['cat_humidity']).mean().sort_values(by=['demand'], ascending = False)\r\n",
    "humidityDemand"
   ],
   "outputs": [
    {
     "output_type": "execute_result",
     "data": {
      "text/plain": [
       "                demand\n",
       "cat_humidity          \n",
       "extrLowHum    5.246886\n",
       "lowHum        4.919135\n",
       "0             4.484182\n",
       "medHum        4.455558\n",
       "highHum       4.082694\n",
       "extrHighHum   3.546822"
      ],
      "text/html": [
       "<div>\n",
       "<style scoped>\n",
       "    .dataframe tbody tr th:only-of-type {\n",
       "        vertical-align: middle;\n",
       "    }\n",
       "\n",
       "    .dataframe tbody tr th {\n",
       "        vertical-align: top;\n",
       "    }\n",
       "\n",
       "    .dataframe thead th {\n",
       "        text-align: right;\n",
       "    }\n",
       "</style>\n",
       "<table border=\"1\" class=\"dataframe\">\n",
       "  <thead>\n",
       "    <tr style=\"text-align: right;\">\n",
       "      <th></th>\n",
       "      <th>demand</th>\n",
       "    </tr>\n",
       "    <tr>\n",
       "      <th>cat_humidity</th>\n",
       "      <th></th>\n",
       "    </tr>\n",
       "  </thead>\n",
       "  <tbody>\n",
       "    <tr>\n",
       "      <th>extrLowHum</th>\n",
       "      <td>5.246886</td>\n",
       "    </tr>\n",
       "    <tr>\n",
       "      <th>lowHum</th>\n",
       "      <td>4.919135</td>\n",
       "    </tr>\n",
       "    <tr>\n",
       "      <th>0</th>\n",
       "      <td>4.484182</td>\n",
       "    </tr>\n",
       "    <tr>\n",
       "      <th>medHum</th>\n",
       "      <td>4.455558</td>\n",
       "    </tr>\n",
       "    <tr>\n",
       "      <th>highHum</th>\n",
       "      <td>4.082694</td>\n",
       "    </tr>\n",
       "    <tr>\n",
       "      <th>extrHighHum</th>\n",
       "      <td>3.546822</td>\n",
       "    </tr>\n",
       "  </tbody>\n",
       "</table>\n",
       "</div>"
      ]
     },
     "metadata": {},
     "execution_count": 26
    }
   ],
   "metadata": {}
  },
  {
   "cell_type": "markdown",
   "source": [
    "### Categorical Windspeed\n",
    "Faster the wind, higher the demand. People love to feel the wind, don't they?"
   ],
   "metadata": {}
  },
  {
   "cell_type": "code",
   "execution_count": 27,
   "source": [
    "windspeedDemand = data[['cat_windspeed','demand']]\r\n",
    "windspeedDemand = windspeedDemand.groupby(['cat_windspeed']).mean().sort_values(by=['demand'], ascending = False)\r\n",
    "windspeedDemand"
   ],
   "outputs": [
    {
     "output_type": "execute_result",
     "data": {
      "text/plain": [
       "                     demand\n",
       "cat_windspeed              \n",
       "extrHighWindspeed  4.740469\n",
       "highWindspeed      4.620872\n",
       "medWindspeed       4.439793\n",
       "0                  4.388720\n",
       "lowWindspeed       4.179588"
      ],
      "text/html": [
       "<div>\n",
       "<style scoped>\n",
       "    .dataframe tbody tr th:only-of-type {\n",
       "        vertical-align: middle;\n",
       "    }\n",
       "\n",
       "    .dataframe tbody tr th {\n",
       "        vertical-align: top;\n",
       "    }\n",
       "\n",
       "    .dataframe thead th {\n",
       "        text-align: right;\n",
       "    }\n",
       "</style>\n",
       "<table border=\"1\" class=\"dataframe\">\n",
       "  <thead>\n",
       "    <tr style=\"text-align: right;\">\n",
       "      <th></th>\n",
       "      <th>demand</th>\n",
       "    </tr>\n",
       "    <tr>\n",
       "      <th>cat_windspeed</th>\n",
       "      <th></th>\n",
       "    </tr>\n",
       "  </thead>\n",
       "  <tbody>\n",
       "    <tr>\n",
       "      <th>extrHighWindspeed</th>\n",
       "      <td>4.740469</td>\n",
       "    </tr>\n",
       "    <tr>\n",
       "      <th>highWindspeed</th>\n",
       "      <td>4.620872</td>\n",
       "    </tr>\n",
       "    <tr>\n",
       "      <th>medWindspeed</th>\n",
       "      <td>4.439793</td>\n",
       "    </tr>\n",
       "    <tr>\n",
       "      <th>0</th>\n",
       "      <td>4.388720</td>\n",
       "    </tr>\n",
       "    <tr>\n",
       "      <th>lowWindspeed</th>\n",
       "      <td>4.179588</td>\n",
       "    </tr>\n",
       "  </tbody>\n",
       "</table>\n",
       "</div>"
      ]
     },
     "metadata": {},
     "execution_count": 27
    }
   ],
   "metadata": {}
  },
  {
   "cell_type": "markdown",
   "source": [
    "## Convert text data into numerical data"
   ],
   "metadata": {}
  },
  {
   "cell_type": "code",
   "execution_count": 28,
   "source": [
    "list(data.weather.unique())"
   ],
   "outputs": [
    {
     "output_type": "execute_result",
     "data": {
      "text/plain": [
       "['Clear or partly cloudy',\n",
       " 'Mist',\n",
       " 'Light snow or rain',\n",
       " 'heavy rain/ice pellets/snow + fog']"
      ]
     },
     "metadata": {},
     "execution_count": 28
    }
   ],
   "metadata": {
    "colab": {},
    "colab_type": "code",
    "id": "Vel-7S7gIKR9"
   }
  },
  {
   "cell_type": "markdown",
   "source": [
    "There are 4 different states for \"Weather\" feature, best we can do is to convert those text data into categorical data to help the model for processing."
   ],
   "metadata": {}
  },
  {
   "cell_type": "code",
   "execution_count": 29,
   "source": [
    "data[\"weather\"] = pd.factorize(data.weather)[0]\r\n",
    "test[\"weather\"] = pd.factorize(test.weather)[0]"
   ],
   "outputs": [],
   "metadata": {
    "colab": {},
    "colab_type": "code",
    "id": "fp1nvdh-IKSE"
   }
  },
  {
   "cell_type": "markdown",
   "source": [
    "Then I check if there is any \"made up\" seasons, a.k.a. corrupted data. It seems like \"season\" column has only four seasons as expected. Then I will be converting that text data into numerical data too. As well as other categorical data."
   ],
   "metadata": {}
  },
  {
   "cell_type": "code",
   "execution_count": 30,
   "source": [
    "list(data.season.unique())"
   ],
   "outputs": [
    {
     "output_type": "execute_result",
     "data": {
      "text/plain": [
       "['spring', 'summer', 'fall', 'winter']"
      ]
     },
     "metadata": {},
     "execution_count": 30
    }
   ],
   "metadata": {
    "colab": {},
    "colab_type": "code",
    "id": "px5KNTQ7IKSK"
   }
  },
  {
   "cell_type": "code",
   "execution_count": 31,
   "source": [
    "data[\"season\"] = pd.factorize(data.season)[0]\r\n",
    "data[\"holiday\"] = pd.factorize(data.holiday)[0]\r\n",
    "data[\"workingday\"] = pd.factorize(data.workingday)[0]\r\n",
    "test[\"season\"] = pd.factorize(test.season)[0]\r\n",
    "test[\"holiday\"] = pd.factorize(test.holiday)[0]\r\n",
    "test[\"workingday\"] = pd.factorize(test.workingday)[0]\r\n",
    "data"
   ],
   "outputs": [
    {
     "output_type": "execute_result",
     "data": {
      "text/plain": [
       "        id  season  holiday  workingday  weather    demand  hour  day  month  \\\n",
       "0        1       0        0           0        0  2.772589     0    1      1   \n",
       "1        2       0        0           0        0  3.688879     1    1      1   \n",
       "2        3       0        0           0        0  3.465736     2    1      1   \n",
       "3        4       0        0           0        0  2.564949     3    1      1   \n",
       "4        5       0        0           0        0  0.000000     4    1      1   \n",
       "...    ...     ...      ...         ...      ...       ...   ...  ...    ...   \n",
       "8703  8704       2        0           0        0  5.030438     0    5      8   \n",
       "8704  8705       2        0           0        0  4.465908     1    5      8   \n",
       "8705  8706       2        0           0        0  4.290459     2    5      8   \n",
       "8706  8707       2        0           0        0  3.713572     3    5      8   \n",
       "8707  8708       2        0           0        0  2.639057     4    5      8   \n",
       "\n",
       "      year      cat_temp     cat_temp_feel cat_humidity  cat_windspeed  \\\n",
       "0     2017       lowTemp       lowTempFeel      highHum   lowWindspeed   \n",
       "1     2017       lowTemp       lowTempFeel      highHum   lowWindspeed   \n",
       "2     2017       lowTemp       lowTempFeel      highHum   lowWindspeed   \n",
       "3     2017       lowTemp       lowTempFeel      highHum   lowWindspeed   \n",
       "4     2017       lowTemp       lowTempFeel      highHum   lowWindspeed   \n",
       "...    ...           ...               ...          ...            ...   \n",
       "8703  2018  extrHighTemp  extrHighTempFeel      highHum  highWindspeed   \n",
       "8704  2018  extrHighTemp  extrHighTempFeel      highHum  highWindspeed   \n",
       "8705  2018  extrHighTemp  extrHighTempFeel      highHum  highWindspeed   \n",
       "8706  2018      highTemp  extrHighTempFeel      highHum  highWindspeed   \n",
       "8707  2018      highTemp  extrHighTempFeel      highHum  highWindspeed   \n",
       "\n",
       "      years_multiplier  \n",
       "0                    0  \n",
       "1                    0  \n",
       "2                    0  \n",
       "3                    0  \n",
       "4                    0  \n",
       "...                ...  \n",
       "8703                 1  \n",
       "8704                 1  \n",
       "8705                 1  \n",
       "8706                 1  \n",
       "8707                 1  \n",
       "\n",
       "[8708 rows x 15 columns]"
      ],
      "text/html": [
       "<div>\n",
       "<style scoped>\n",
       "    .dataframe tbody tr th:only-of-type {\n",
       "        vertical-align: middle;\n",
       "    }\n",
       "\n",
       "    .dataframe tbody tr th {\n",
       "        vertical-align: top;\n",
       "    }\n",
       "\n",
       "    .dataframe thead th {\n",
       "        text-align: right;\n",
       "    }\n",
       "</style>\n",
       "<table border=\"1\" class=\"dataframe\">\n",
       "  <thead>\n",
       "    <tr style=\"text-align: right;\">\n",
       "      <th></th>\n",
       "      <th>id</th>\n",
       "      <th>season</th>\n",
       "      <th>holiday</th>\n",
       "      <th>workingday</th>\n",
       "      <th>weather</th>\n",
       "      <th>demand</th>\n",
       "      <th>hour</th>\n",
       "      <th>day</th>\n",
       "      <th>month</th>\n",
       "      <th>year</th>\n",
       "      <th>cat_temp</th>\n",
       "      <th>cat_temp_feel</th>\n",
       "      <th>cat_humidity</th>\n",
       "      <th>cat_windspeed</th>\n",
       "      <th>years_multiplier</th>\n",
       "    </tr>\n",
       "  </thead>\n",
       "  <tbody>\n",
       "    <tr>\n",
       "      <th>0</th>\n",
       "      <td>1</td>\n",
       "      <td>0</td>\n",
       "      <td>0</td>\n",
       "      <td>0</td>\n",
       "      <td>0</td>\n",
       "      <td>2.772589</td>\n",
       "      <td>0</td>\n",
       "      <td>1</td>\n",
       "      <td>1</td>\n",
       "      <td>2017</td>\n",
       "      <td>lowTemp</td>\n",
       "      <td>lowTempFeel</td>\n",
       "      <td>highHum</td>\n",
       "      <td>lowWindspeed</td>\n",
       "      <td>0</td>\n",
       "    </tr>\n",
       "    <tr>\n",
       "      <th>1</th>\n",
       "      <td>2</td>\n",
       "      <td>0</td>\n",
       "      <td>0</td>\n",
       "      <td>0</td>\n",
       "      <td>0</td>\n",
       "      <td>3.688879</td>\n",
       "      <td>1</td>\n",
       "      <td>1</td>\n",
       "      <td>1</td>\n",
       "      <td>2017</td>\n",
       "      <td>lowTemp</td>\n",
       "      <td>lowTempFeel</td>\n",
       "      <td>highHum</td>\n",
       "      <td>lowWindspeed</td>\n",
       "      <td>0</td>\n",
       "    </tr>\n",
       "    <tr>\n",
       "      <th>2</th>\n",
       "      <td>3</td>\n",
       "      <td>0</td>\n",
       "      <td>0</td>\n",
       "      <td>0</td>\n",
       "      <td>0</td>\n",
       "      <td>3.465736</td>\n",
       "      <td>2</td>\n",
       "      <td>1</td>\n",
       "      <td>1</td>\n",
       "      <td>2017</td>\n",
       "      <td>lowTemp</td>\n",
       "      <td>lowTempFeel</td>\n",
       "      <td>highHum</td>\n",
       "      <td>lowWindspeed</td>\n",
       "      <td>0</td>\n",
       "    </tr>\n",
       "    <tr>\n",
       "      <th>3</th>\n",
       "      <td>4</td>\n",
       "      <td>0</td>\n",
       "      <td>0</td>\n",
       "      <td>0</td>\n",
       "      <td>0</td>\n",
       "      <td>2.564949</td>\n",
       "      <td>3</td>\n",
       "      <td>1</td>\n",
       "      <td>1</td>\n",
       "      <td>2017</td>\n",
       "      <td>lowTemp</td>\n",
       "      <td>lowTempFeel</td>\n",
       "      <td>highHum</td>\n",
       "      <td>lowWindspeed</td>\n",
       "      <td>0</td>\n",
       "    </tr>\n",
       "    <tr>\n",
       "      <th>4</th>\n",
       "      <td>5</td>\n",
       "      <td>0</td>\n",
       "      <td>0</td>\n",
       "      <td>0</td>\n",
       "      <td>0</td>\n",
       "      <td>0.000000</td>\n",
       "      <td>4</td>\n",
       "      <td>1</td>\n",
       "      <td>1</td>\n",
       "      <td>2017</td>\n",
       "      <td>lowTemp</td>\n",
       "      <td>lowTempFeel</td>\n",
       "      <td>highHum</td>\n",
       "      <td>lowWindspeed</td>\n",
       "      <td>0</td>\n",
       "    </tr>\n",
       "    <tr>\n",
       "      <th>...</th>\n",
       "      <td>...</td>\n",
       "      <td>...</td>\n",
       "      <td>...</td>\n",
       "      <td>...</td>\n",
       "      <td>...</td>\n",
       "      <td>...</td>\n",
       "      <td>...</td>\n",
       "      <td>...</td>\n",
       "      <td>...</td>\n",
       "      <td>...</td>\n",
       "      <td>...</td>\n",
       "      <td>...</td>\n",
       "      <td>...</td>\n",
       "      <td>...</td>\n",
       "      <td>...</td>\n",
       "    </tr>\n",
       "    <tr>\n",
       "      <th>8703</th>\n",
       "      <td>8704</td>\n",
       "      <td>2</td>\n",
       "      <td>0</td>\n",
       "      <td>0</td>\n",
       "      <td>0</td>\n",
       "      <td>5.030438</td>\n",
       "      <td>0</td>\n",
       "      <td>5</td>\n",
       "      <td>8</td>\n",
       "      <td>2018</td>\n",
       "      <td>extrHighTemp</td>\n",
       "      <td>extrHighTempFeel</td>\n",
       "      <td>highHum</td>\n",
       "      <td>highWindspeed</td>\n",
       "      <td>1</td>\n",
       "    </tr>\n",
       "    <tr>\n",
       "      <th>8704</th>\n",
       "      <td>8705</td>\n",
       "      <td>2</td>\n",
       "      <td>0</td>\n",
       "      <td>0</td>\n",
       "      <td>0</td>\n",
       "      <td>4.465908</td>\n",
       "      <td>1</td>\n",
       "      <td>5</td>\n",
       "      <td>8</td>\n",
       "      <td>2018</td>\n",
       "      <td>extrHighTemp</td>\n",
       "      <td>extrHighTempFeel</td>\n",
       "      <td>highHum</td>\n",
       "      <td>highWindspeed</td>\n",
       "      <td>1</td>\n",
       "    </tr>\n",
       "    <tr>\n",
       "      <th>8705</th>\n",
       "      <td>8706</td>\n",
       "      <td>2</td>\n",
       "      <td>0</td>\n",
       "      <td>0</td>\n",
       "      <td>0</td>\n",
       "      <td>4.290459</td>\n",
       "      <td>2</td>\n",
       "      <td>5</td>\n",
       "      <td>8</td>\n",
       "      <td>2018</td>\n",
       "      <td>extrHighTemp</td>\n",
       "      <td>extrHighTempFeel</td>\n",
       "      <td>highHum</td>\n",
       "      <td>highWindspeed</td>\n",
       "      <td>1</td>\n",
       "    </tr>\n",
       "    <tr>\n",
       "      <th>8706</th>\n",
       "      <td>8707</td>\n",
       "      <td>2</td>\n",
       "      <td>0</td>\n",
       "      <td>0</td>\n",
       "      <td>0</td>\n",
       "      <td>3.713572</td>\n",
       "      <td>3</td>\n",
       "      <td>5</td>\n",
       "      <td>8</td>\n",
       "      <td>2018</td>\n",
       "      <td>highTemp</td>\n",
       "      <td>extrHighTempFeel</td>\n",
       "      <td>highHum</td>\n",
       "      <td>highWindspeed</td>\n",
       "      <td>1</td>\n",
       "    </tr>\n",
       "    <tr>\n",
       "      <th>8707</th>\n",
       "      <td>8708</td>\n",
       "      <td>2</td>\n",
       "      <td>0</td>\n",
       "      <td>0</td>\n",
       "      <td>0</td>\n",
       "      <td>2.639057</td>\n",
       "      <td>4</td>\n",
       "      <td>5</td>\n",
       "      <td>8</td>\n",
       "      <td>2018</td>\n",
       "      <td>highTemp</td>\n",
       "      <td>extrHighTempFeel</td>\n",
       "      <td>highHum</td>\n",
       "      <td>highWindspeed</td>\n",
       "      <td>1</td>\n",
       "    </tr>\n",
       "  </tbody>\n",
       "</table>\n",
       "<p>8708 rows × 15 columns</p>\n",
       "</div>"
      ]
     },
     "metadata": {},
     "execution_count": 31
    }
   ],
   "metadata": {
    "colab": {},
    "colab_type": "code",
    "id": "W9B6xKGpIKSQ"
   }
  },
  {
   "cell_type": "markdown",
   "source": [
    "## Modeling, Machine Learning\n",
    "\n",
    "Build a model that can predict hourly demand and identify how different features influence the decision. Please explain the findings effectively to technical and non-technical audiences using comments and visualizations, if appropriate.\n",
    "- **Build an optimized model that effectively solves the business problem.**\n",
    "- **The model will be evaluated on the basis of mean absolute error.**\n",
    "- **Read the test.csv file and prepare features for testing.**"
   ],
   "metadata": {
    "colab_type": "text",
    "id": "ymsdDaIPIKSX"
   }
  },
  {
   "cell_type": "markdown",
   "source": [
    "I will be selecting and generating features in this section and apply that changes to the test data aswell to prevent future errors."
   ],
   "metadata": {}
  },
  {
   "cell_type": "markdown",
   "source": [
    "> #### Task:\n",
    "- **Submit the predictions on the test dataset using the optimized model** <br/>\n",
    "    For each record in the test set (`test.csv`), predict the value of the `demand` variable. Submit a CSV file with a header row and one row per test entry.\n",
    "    \n",
    "The file (`submissions.csv`) should have exactly 2 columns:\n",
    "   - **id**\n",
    "   - **demand**"
   ],
   "metadata": {
    "colab_type": "text",
    "id": "UFogmgYZIKTE"
   }
  },
  {
   "cell_type": "markdown",
   "source": [
    "### Converting all values into numeric values"
   ],
   "metadata": {}
  },
  {
   "cell_type": "code",
   "execution_count": 32,
   "source": [
    "#!pip install lightgbm\r\n",
    "import lightgbm as lgb\r\n",
    "from sklearn import metrics\r\n",
    "from sklearn.preprocessing import LabelEncoder\r\n",
    "\r\n",
    "data_demand = data[\"demand\"]\r\n",
    "\r\n",
    "encoder = LabelEncoder()\r\n",
    "data = data.apply(encoder.fit_transform)\r\n",
    "ids = test[\"id\"]\r\n",
    "test = test.apply(encoder.fit_transform)\r\n",
    "test[\"id\"] = ids\r\n",
    "\r\n",
    "data[\"demand\"] = data_demand\r\n",
    "data.dtypes"
   ],
   "outputs": [
    {
     "output_type": "execute_result",
     "data": {
      "text/plain": [
       "id                    int64\n",
       "season                int64\n",
       "holiday               int64\n",
       "workingday            int64\n",
       "weather               int64\n",
       "demand              float64\n",
       "hour                  int64\n",
       "day                   int64\n",
       "month                 int64\n",
       "year                  int64\n",
       "cat_temp              int64\n",
       "cat_temp_feel         int64\n",
       "cat_humidity          int64\n",
       "cat_windspeed         int64\n",
       "years_multiplier      int64\n",
       "dtype: object"
      ]
     },
     "metadata": {},
     "execution_count": 32
    }
   ],
   "metadata": {}
  },
  {
   "cell_type": "markdown",
   "source": [
    "### Splitting data into train, test and validation sets"
   ],
   "metadata": {
    "colab": {},
    "colab_type": "code",
    "id": "7xgNg25MIKTG"
   }
  },
  {
   "cell_type": "code",
   "execution_count": 33,
   "source": [
    "frac = 0.2\n",
    "size = int(len(data)*frac)\n",
    "\n",
    "trainSet = data[:-2*size]\n",
    "testSet = data[-2*size:]"
   ],
   "outputs": [],
   "metadata": {
    "colab": {},
    "colab_type": "code",
    "id": "OaxN7BjwIKTL"
   }
  },
  {
   "cell_type": "markdown",
   "source": [
    "### Using different models to see which one is better"
   ],
   "metadata": {}
  },
  {
   "cell_type": "markdown",
   "source": [
    "### Linear Regression:"
   ],
   "metadata": {}
  },
  {
   "cell_type": "code",
   "execution_count": 34,
   "source": [
    "from sklearn import datasets, linear_model\n",
    "from sklearn.metrics import mean_squared_error, r2_score\n",
    "\n",
    "features = trainSet.columns.drop(['demand','id'])\n",
    "\n",
    "\n",
    "regr = linear_model.LinearRegression()\n",
    "regr.fit(trainSet[features], trainSet['demand'])\n",
    "\n",
    "demandPred = regr.predict(testSet[features])\n",
    "\n",
    "print('Mean squared error: ', mean_squared_error(testSet[\"demand\"], demandPred))\n"
   ],
   "outputs": [
    {
     "output_type": "stream",
     "name": "stdout",
     "text": [
      "Mean squared error:  1.8230404558537736\n"
     ]
    }
   ],
   "metadata": {}
  },
  {
   "cell_type": "markdown",
   "source": [
    "### Support Vector Machine:"
   ],
   "metadata": {}
  },
  {
   "cell_type": "code",
   "execution_count": 35,
   "source": [
    "from sklearn import svm\n",
    "\n",
    "regr = svm.SVR(gamma = \"auto\") # Auto gives less error than Scale\n",
    "regr.fit(trainSet[features], trainSet['demand'])\n",
    "\n",
    "demandPred = regr.predict(testSet[features])\n",
    "\n",
    "print('Mean squared error: ', mean_squared_error(testSet[\"demand\"], demandPred))\n"
   ],
   "outputs": [
    {
     "output_type": "stream",
     "name": "stdout",
     "text": [
      "Mean squared error:  0.6848930011906391\n"
     ]
    }
   ],
   "metadata": {}
  },
  {
   "cell_type": "markdown",
   "source": [
    "### Ridge regression with Cross-Validation:"
   ],
   "metadata": {}
  },
  {
   "cell_type": "code",
   "execution_count": 36,
   "source": [
    "regr = linear_model.RidgeCV()\n",
    "regr.fit(trainSet[features], trainSet['demand'])\n",
    "\n",
    "demandPred = regr.predict(testSet[features])\n",
    "\n",
    "print('Mean squared error: ', mean_squared_error(testSet[\"demand\"], demandPred))\n"
   ],
   "outputs": [
    {
     "output_type": "stream",
     "name": "stdout",
     "text": [
      "Mean squared error:  1.8229995324420416\n"
     ]
    }
   ],
   "metadata": {}
  },
  {
   "cell_type": "markdown",
   "source": [
    "### Lasso:"
   ],
   "metadata": {}
  },
  {
   "cell_type": "code",
   "execution_count": 37,
   "source": [
    "regr = linear_model.Lasso(alpha=1)\n",
    "regr.fit(trainSet[features], trainSet['demand'])\n",
    "\n",
    "demandPred = regr.predict(testSet[features])\n",
    "\n",
    "print('Mean squared error: ', mean_squared_error(testSet[\"demand\"], demandPred))\n"
   ],
   "outputs": [
    {
     "output_type": "stream",
     "name": "stdout",
     "text": [
      "Mean squared error:  1.7083703612366365\n"
     ]
    }
   ],
   "metadata": {}
  },
  {
   "cell_type": "markdown",
   "source": [
    "### Bayesian Ridge:"
   ],
   "metadata": {}
  },
  {
   "cell_type": "code",
   "execution_count": 38,
   "source": [
    "regr = linear_model.BayesianRidge()\n",
    "regr.fit(trainSet[features], trainSet['demand'])\n",
    "\n",
    "demandPred = regr.predict(testSet[features])\n",
    "\n",
    "print('Mean squared error: ', mean_squared_error(testSet[\"demand\"], demandPred))\n"
   ],
   "outputs": [
    {
     "output_type": "stream",
     "name": "stdout",
     "text": [
      "Mean squared error:  1.8223162483387039\n"
     ]
    }
   ],
   "metadata": {}
  },
  {
   "cell_type": "markdown",
   "source": [
    "## Results\n",
    "As it can be observed in the previous chapter, SVM's gave the best results, hence I will be using it for submission."
   ],
   "metadata": {}
  },
  {
   "cell_type": "code",
   "execution_count": 39,
   "source": [
    "regr = svm.SVR(gamma = \"auto\") # Auto gives less error than Scale\n",
    "regr.fit(trainSet[features], trainSet['demand'])\n",
    "\n",
    "demandPred = regr.predict(test[features])\n",
    "submission_df = test\n",
    "submission_df[\"demand\"] = demandPred\n",
    "submission_df.drop(submission_df.columns.difference([\"id\",\"demand\"]),axis = 1,inplace=True)\n",
    "submission_df"
   ],
   "outputs": [
    {
     "output_type": "execute_result",
     "data": {
      "text/plain": [
       "         id    demand\n",
       "0      8709  2.587383\n",
       "1      8710  3.268959\n",
       "2      8712  4.519101\n",
       "3      8713  4.447788\n",
       "4      8714  4.334199\n",
       "...     ...       ...\n",
       "1787  10882  5.562910\n",
       "1788  10883  5.460196\n",
       "1789  10884  5.148780\n",
       "1790  10885  4.896687\n",
       "1791  10886  4.656750\n",
       "\n",
       "[1792 rows x 2 columns]"
      ],
      "text/html": [
       "<div>\n",
       "<style scoped>\n",
       "    .dataframe tbody tr th:only-of-type {\n",
       "        vertical-align: middle;\n",
       "    }\n",
       "\n",
       "    .dataframe tbody tr th {\n",
       "        vertical-align: top;\n",
       "    }\n",
       "\n",
       "    .dataframe thead th {\n",
       "        text-align: right;\n",
       "    }\n",
       "</style>\n",
       "<table border=\"1\" class=\"dataframe\">\n",
       "  <thead>\n",
       "    <tr style=\"text-align: right;\">\n",
       "      <th></th>\n",
       "      <th>id</th>\n",
       "      <th>demand</th>\n",
       "    </tr>\n",
       "  </thead>\n",
       "  <tbody>\n",
       "    <tr>\n",
       "      <th>0</th>\n",
       "      <td>8709</td>\n",
       "      <td>2.587383</td>\n",
       "    </tr>\n",
       "    <tr>\n",
       "      <th>1</th>\n",
       "      <td>8710</td>\n",
       "      <td>3.268959</td>\n",
       "    </tr>\n",
       "    <tr>\n",
       "      <th>2</th>\n",
       "      <td>8712</td>\n",
       "      <td>4.519101</td>\n",
       "    </tr>\n",
       "    <tr>\n",
       "      <th>3</th>\n",
       "      <td>8713</td>\n",
       "      <td>4.447788</td>\n",
       "    </tr>\n",
       "    <tr>\n",
       "      <th>4</th>\n",
       "      <td>8714</td>\n",
       "      <td>4.334199</td>\n",
       "    </tr>\n",
       "    <tr>\n",
       "      <th>...</th>\n",
       "      <td>...</td>\n",
       "      <td>...</td>\n",
       "    </tr>\n",
       "    <tr>\n",
       "      <th>1787</th>\n",
       "      <td>10882</td>\n",
       "      <td>5.562910</td>\n",
       "    </tr>\n",
       "    <tr>\n",
       "      <th>1788</th>\n",
       "      <td>10883</td>\n",
       "      <td>5.460196</td>\n",
       "    </tr>\n",
       "    <tr>\n",
       "      <th>1789</th>\n",
       "      <td>10884</td>\n",
       "      <td>5.148780</td>\n",
       "    </tr>\n",
       "    <tr>\n",
       "      <th>1790</th>\n",
       "      <td>10885</td>\n",
       "      <td>4.896687</td>\n",
       "    </tr>\n",
       "    <tr>\n",
       "      <th>1791</th>\n",
       "      <td>10886</td>\n",
       "      <td>4.656750</td>\n",
       "    </tr>\n",
       "  </tbody>\n",
       "</table>\n",
       "<p>1792 rows × 2 columns</p>\n",
       "</div>"
      ]
     },
     "metadata": {},
     "execution_count": 39
    }
   ],
   "metadata": {}
  },
  {
   "cell_type": "code",
   "execution_count": 40,
   "source": [
    "#Submission\n",
    "submission_df.to_csv('submissions.csv',index=False)"
   ],
   "outputs": [],
   "metadata": {
    "colab": {},
    "colab_type": "code",
    "id": "nBRVPrYbIKTQ"
   }
  },
  {
   "cell_type": "markdown",
   "source": [
    "---"
   ],
   "metadata": {
    "colab_type": "text",
    "id": "H_pB8zTcIKTW"
   }
  }
 ],
 "metadata": {
  "colab": {
   "collapsed_sections": [],
   "name": "Questions.ipynb",
   "provenance": []
  },
  "kernelspec": {
   "display_name": "Python 3",
   "language": "python",
   "name": "python3"
  },
  "language_info": {
   "codemirror_mode": {
    "name": "ipython",
    "version": 3
   },
   "file_extension": ".py",
   "mimetype": "text/x-python",
   "name": "python",
   "nbconvert_exporter": "python",
   "pygments_lexer": "ipython3",
   "version": "3.7.8"
  },
  "toc": {
   "base_numbering": 1,
   "nav_menu": {},
   "number_sections": true,
   "sideBar": true,
   "skip_h1_title": false,
   "title_cell": "Table of Contents",
   "title_sidebar": "Contents",
   "toc_cell": false,
   "toc_position": {},
   "toc_section_display": true,
   "toc_window_display": false
  }
 },
 "nbformat": 4,
 "nbformat_minor": 4
}